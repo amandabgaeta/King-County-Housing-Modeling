{
 "cells": [
  {
   "cell_type": "code",
   "execution_count": 152,
   "metadata": {},
   "outputs": [],
   "source": [
    "# Import packages\n",
    "import pandas as pd\n",
    "import matplotlib.pyplot as plt\n",
    "import numpy as np\n",
    "import statsmodels.api as sm\n",
    "import seaborn as sns\n",
    "\n",
    "# Import scikit learn tools\n",
    "from sklearn.model_selection import train_test_split\n",
    "from sklearn.preprocessing import StandardScaler, MinMaxScaler\n",
    "from sklearn.linear_model import LinearRegression\n",
    "from sklearn.metrics import r2_score, mean_absolute_error, mean_squared_error"
   ]
  },
  {
   "cell_type": "code",
   "execution_count": 153,
   "metadata": {},
   "outputs": [],
   "source": [
    "data = pd.read_csv('data_cleaned.csv')"
   ]
  },
  {
   "cell_type": "code",
   "execution_count": 154,
   "metadata": {},
   "outputs": [
    {
     "name": "stdout",
     "output_type": "stream",
     "text": [
      "<class 'pandas.core.frame.DataFrame'>\n",
      "RangeIndex: 21597 entries, 0 to 21596\n",
      "Data columns (total 32 columns):\n",
      " #   Column              Non-Null Count  Dtype  \n",
      "---  ------              --------------  -----  \n",
      " 0   id                  21597 non-null  int64  \n",
      " 1   date                21597 non-null  object \n",
      " 2   price               21597 non-null  float64\n",
      " 3   bedrooms            21597 non-null  int64  \n",
      " 4   bathrooms           21597 non-null  float64\n",
      " 5   sqft_living         21597 non-null  int64  \n",
      " 6   sqft_lot            21597 non-null  int64  \n",
      " 7   floors              21597 non-null  float64\n",
      " 8   waterfront          21597 non-null  float64\n",
      " 9   view                21597 non-null  float64\n",
      " 10  condition           21597 non-null  int64  \n",
      " 11  grade               21597 non-null  int64  \n",
      " 12  sqft_above          21597 non-null  int64  \n",
      " 13  sqft_basement       21597 non-null  float64\n",
      " 14  yr_built            21597 non-null  int64  \n",
      " 15  yr_renovated        21597 non-null  int64  \n",
      " 16  zipcode             21597 non-null  int64  \n",
      " 17  lat                 21597 non-null  float64\n",
      " 18  long                21597 non-null  float64\n",
      " 19  sqft_living15       21597 non-null  int64  \n",
      " 20  sqft_lot15          21597 non-null  int64  \n",
      " 21  yr_of_sale          21597 non-null  int64  \n",
      " 22  mon_of_sale_num     21597 non-null  int64  \n",
      " 23  mon_of_sale_name    21597 non-null  object \n",
      " 24  season_of_sale      21597 non-null  object \n",
      " 25  has_been_viewed     21597 non-null  int64  \n",
      " 26  grade_category      21597 non-null  object \n",
      " 27  has_basement        21597 non-null  int64  \n",
      " 28  has_been_renovated  21597 non-null  int64  \n",
      " 29  in_seattle          21597 non-null  int64  \n",
      " 30  single_fam_home     21597 non-null  int64  \n",
      " 31  price_in_thousands  21597 non-null  float64\n",
      "dtypes: float64(9), int64(19), object(4)\n",
      "memory usage: 5.3+ MB\n"
     ]
    }
   ],
   "source": [
    "#Overview of data\n",
    "data.info()"
   ]
  },
  {
   "cell_type": "markdown",
   "metadata": {},
   "source": [
    "## V first shitty model"
   ]
  },
  {
   "cell_type": "code",
   "execution_count": 155,
   "metadata": {},
   "outputs": [],
   "source": [
    "feats_in_control = ['price','bedrooms', 'bathrooms', 'sqft_living', 'floors', 'condition', 'grade', 'grade_category',\n",
    "                    'sqft_above', 'sqft_basement', 'has_been_viewed', 'has_basement', 'has_been_renovated']"
   ]
  },
  {
   "cell_type": "code",
   "execution_count": 156,
   "metadata": {},
   "outputs": [],
   "source": [
    "# Define X and y\n",
    "X_cols = [c for c in data[feats_in_control].columns.to_list() if c not in ['price', 'grade_category']] \n",
    "#take out categoricals - aka grade_category\n",
    "\n",
    "X = data[X_cols]\n",
    "y = data['price']"
   ]
  },
  {
   "cell_type": "code",
   "execution_count": 157,
   "metadata": {},
   "outputs": [],
   "source": [
    "model = sm.OLS(y, sm.add_constant(X))"
   ]
  },
  {
   "cell_type": "code",
   "execution_count": 158,
   "metadata": {
    "scrolled": false
   },
   "outputs": [
    {
     "data": {
      "text/html": [
       "<table class=\"simpletable\">\n",
       "<caption>OLS Regression Results</caption>\n",
       "<tr>\n",
       "  <th>Dep. Variable:</th>          <td>price</td>      <th>  R-squared:         </th>  <td>   0.569</td>  \n",
       "</tr>\n",
       "<tr>\n",
       "  <th>Model:</th>                   <td>OLS</td>       <th>  Adj. R-squared:    </th>  <td>   0.569</td>  \n",
       "</tr>\n",
       "<tr>\n",
       "  <th>Method:</th>             <td>Least Squares</td>  <th>  F-statistic:       </th>  <td>   2594.</td>  \n",
       "</tr>\n",
       "<tr>\n",
       "  <th>Date:</th>             <td>Fri, 15 Jan 2021</td> <th>  Prob (F-statistic):</th>   <td>  0.00</td>   \n",
       "</tr>\n",
       "<tr>\n",
       "  <th>Time:</th>                 <td>12:37:41</td>     <th>  Log-Likelihood:    </th> <td>-2.9829e+05</td>\n",
       "</tr>\n",
       "<tr>\n",
       "  <th>No. Observations:</th>      <td> 21597</td>      <th>  AIC:               </th>  <td>5.966e+05</td> \n",
       "</tr>\n",
       "<tr>\n",
       "  <th>Df Residuals:</th>          <td> 21585</td>      <th>  BIC:               </th>  <td>5.967e+05</td> \n",
       "</tr>\n",
       "<tr>\n",
       "  <th>Df Model:</th>              <td>    11</td>      <th>                     </th>      <td> </td>     \n",
       "</tr>\n",
       "<tr>\n",
       "  <th>Covariance Type:</th>      <td>nonrobust</td>    <th>                     </th>      <td> </td>     \n",
       "</tr>\n",
       "</table>\n",
       "<table class=\"simpletable\">\n",
       "<tr>\n",
       "           <td></td>             <th>coef</th>     <th>std err</th>      <th>t</th>      <th>P>|t|</th>  <th>[0.025</th>    <th>0.975]</th>  \n",
       "</tr>\n",
       "<tr>\n",
       "  <th>const</th>              <td>-7.657e+05</td> <td> 3.55e+04</td> <td>  -21.589</td> <td> 0.000</td> <td>-8.35e+05</td> <td>-6.96e+05</td>\n",
       "</tr>\n",
       "<tr>\n",
       "  <th>bedrooms</th>           <td>-4.305e+04</td> <td> 2246.246</td> <td>  -19.164</td> <td> 0.000</td> <td>-4.75e+04</td> <td>-3.86e+04</td>\n",
       "</tr>\n",
       "<tr>\n",
       "  <th>bathrooms</th>          <td>-2.123e+04</td> <td> 3678.188</td> <td>   -5.771</td> <td> 0.000</td> <td>-2.84e+04</td> <td> -1.4e+04</td>\n",
       "</tr>\n",
       "<tr>\n",
       "  <th>sqft_living</th>        <td>  169.5554</td> <td>   25.379</td> <td>    6.681</td> <td> 0.000</td> <td>  119.810</td> <td>  219.301</td>\n",
       "</tr>\n",
       "<tr>\n",
       "  <th>floors</th>             <td> 2208.1053</td> <td> 4109.824</td> <td>    0.537</td> <td> 0.591</td> <td>-5847.454</td> <td> 1.03e+04</td>\n",
       "</tr>\n",
       "<tr>\n",
       "  <th>condition</th>          <td> 6.259e+04</td> <td> 2655.114</td> <td>   23.572</td> <td> 0.000</td> <td> 5.74e+04</td> <td> 6.78e+04</td>\n",
       "</tr>\n",
       "<tr>\n",
       "  <th>grade</th>              <td> 1.124e+05</td> <td> 2375.633</td> <td>   47.296</td> <td> 0.000</td> <td> 1.08e+05</td> <td> 1.17e+05</td>\n",
       "</tr>\n",
       "<tr>\n",
       "  <th>sqft_above</th>         <td>   31.0099</td> <td>   25.367</td> <td>    1.222</td> <td> 0.222</td> <td>  -18.711</td> <td>   80.730</td>\n",
       "</tr>\n",
       "<tr>\n",
       "  <th>sqft_basement</th>      <td>   66.1367</td> <td>   25.991</td> <td>    2.545</td> <td> 0.011</td> <td>   15.193</td> <td>  117.081</td>\n",
       "</tr>\n",
       "<tr>\n",
       "  <th>has_been_viewed</th>    <td> -2.42e+04</td> <td> 3.04e+04</td> <td>   -0.795</td> <td> 0.427</td> <td>-8.39e+04</td> <td> 3.55e+04</td>\n",
       "</tr>\n",
       "<tr>\n",
       "  <th>has_basement</th>       <td> 2.388e+04</td> <td> 6137.512</td> <td>    3.891</td> <td> 0.000</td> <td> 1.19e+04</td> <td> 3.59e+04</td>\n",
       "</tr>\n",
       "<tr>\n",
       "  <th>has_been_renovated</th> <td> 1.866e+05</td> <td> 9047.855</td> <td>   20.620</td> <td> 0.000</td> <td> 1.69e+05</td> <td> 2.04e+05</td>\n",
       "</tr>\n",
       "</table>\n",
       "<table class=\"simpletable\">\n",
       "<tr>\n",
       "  <th>Omnibus:</th>       <td>16818.210</td> <th>  Durbin-Watson:     </th>  <td>   1.983</td>  \n",
       "</tr>\n",
       "<tr>\n",
       "  <th>Prob(Omnibus):</th>  <td> 0.000</td>   <th>  Jarque-Bera (JB):  </th> <td>1004862.557</td>\n",
       "</tr>\n",
       "<tr>\n",
       "  <th>Skew:</th>           <td> 3.256</td>   <th>  Prob(JB):          </th>  <td>    0.00</td>  \n",
       "</tr>\n",
       "<tr>\n",
       "  <th>Kurtosis:</th>       <td>35.776</td>   <th>  Cond. No.          </th>  <td>8.27e+04</td>  \n",
       "</tr>\n",
       "</table><br/><br/>Warnings:<br/>[1] Standard Errors assume that the covariance matrix of the errors is correctly specified.<br/>[2] The condition number is large, 8.27e+04. This might indicate that there are<br/>strong multicollinearity or other numerical problems."
      ],
      "text/plain": [
       "<class 'statsmodels.iolib.summary.Summary'>\n",
       "\"\"\"\n",
       "                            OLS Regression Results                            \n",
       "==============================================================================\n",
       "Dep. Variable:                  price   R-squared:                       0.569\n",
       "Model:                            OLS   Adj. R-squared:                  0.569\n",
       "Method:                 Least Squares   F-statistic:                     2594.\n",
       "Date:                Fri, 15 Jan 2021   Prob (F-statistic):               0.00\n",
       "Time:                        12:37:41   Log-Likelihood:            -2.9829e+05\n",
       "No. Observations:               21597   AIC:                         5.966e+05\n",
       "Df Residuals:                   21585   BIC:                         5.967e+05\n",
       "Df Model:                          11                                         \n",
       "Covariance Type:            nonrobust                                         \n",
       "======================================================================================\n",
       "                         coef    std err          t      P>|t|      [0.025      0.975]\n",
       "--------------------------------------------------------------------------------------\n",
       "const              -7.657e+05   3.55e+04    -21.589      0.000   -8.35e+05   -6.96e+05\n",
       "bedrooms           -4.305e+04   2246.246    -19.164      0.000   -4.75e+04   -3.86e+04\n",
       "bathrooms          -2.123e+04   3678.188     -5.771      0.000   -2.84e+04    -1.4e+04\n",
       "sqft_living          169.5554     25.379      6.681      0.000     119.810     219.301\n",
       "floors              2208.1053   4109.824      0.537      0.591   -5847.454    1.03e+04\n",
       "condition           6.259e+04   2655.114     23.572      0.000    5.74e+04    6.78e+04\n",
       "grade               1.124e+05   2375.633     47.296      0.000    1.08e+05    1.17e+05\n",
       "sqft_above            31.0099     25.367      1.222      0.222     -18.711      80.730\n",
       "sqft_basement         66.1367     25.991      2.545      0.011      15.193     117.081\n",
       "has_been_viewed     -2.42e+04   3.04e+04     -0.795      0.427   -8.39e+04    3.55e+04\n",
       "has_basement        2.388e+04   6137.512      3.891      0.000    1.19e+04    3.59e+04\n",
       "has_been_renovated  1.866e+05   9047.855     20.620      0.000    1.69e+05    2.04e+05\n",
       "==============================================================================\n",
       "Omnibus:                    16818.210   Durbin-Watson:                   1.983\n",
       "Prob(Omnibus):                  0.000   Jarque-Bera (JB):          1004862.557\n",
       "Skew:                           3.256   Prob(JB):                         0.00\n",
       "Kurtosis:                      35.776   Cond. No.                     8.27e+04\n",
       "==============================================================================\n",
       "\n",
       "Warnings:\n",
       "[1] Standard Errors assume that the covariance matrix of the errors is correctly specified.\n",
       "[2] The condition number is large, 8.27e+04. This might indicate that there are\n",
       "strong multicollinearity or other numerical problems.\n",
       "\"\"\""
      ]
     },
     "execution_count": 158,
     "metadata": {},
     "output_type": "execute_result"
    }
   ],
   "source": [
    "results = model.fit()\n",
    "\n",
    "results.summary()"
   ]
  },
  {
   "cell_type": "markdown",
   "metadata": {},
   "source": [
    "## Learning: p values show floors, sqft_above, and has_been_viewed not significant"
   ]
  },
  {
   "cell_type": "markdown",
   "metadata": {},
   "source": [
    "## Now with Scaler"
   ]
  },
  {
   "cell_type": "code",
   "execution_count": 159,
   "metadata": {},
   "outputs": [],
   "source": [
    "# Instantiate a scaler and scale our data\n",
    "scaler = StandardScaler()\n",
    "\n",
    "X_scaled = scaler.fit_transform(X)"
   ]
  },
  {
   "cell_type": "code",
   "execution_count": 160,
   "metadata": {},
   "outputs": [],
   "source": [
    "# New model on scaled data\n",
    "scaled_model = sm.OLS(y, sm.add_constant(X_scaled))"
   ]
  },
  {
   "cell_type": "code",
   "execution_count": 161,
   "metadata": {
    "scrolled": true
   },
   "outputs": [
    {
     "data": {
      "text/html": [
       "<table class=\"simpletable\">\n",
       "<caption>OLS Regression Results</caption>\n",
       "<tr>\n",
       "  <th>Dep. Variable:</th>          <td>price</td>      <th>  R-squared:         </th>  <td>   0.569</td>  \n",
       "</tr>\n",
       "<tr>\n",
       "  <th>Model:</th>                   <td>OLS</td>       <th>  Adj. R-squared:    </th>  <td>   0.569</td>  \n",
       "</tr>\n",
       "<tr>\n",
       "  <th>Method:</th>             <td>Least Squares</td>  <th>  F-statistic:       </th>  <td>   2594.</td>  \n",
       "</tr>\n",
       "<tr>\n",
       "  <th>Date:</th>             <td>Fri, 15 Jan 2021</td> <th>  Prob (F-statistic):</th>   <td>  0.00</td>   \n",
       "</tr>\n",
       "<tr>\n",
       "  <th>Time:</th>                 <td>12:37:41</td>     <th>  Log-Likelihood:    </th> <td>-2.9829e+05</td>\n",
       "</tr>\n",
       "<tr>\n",
       "  <th>No. Observations:</th>      <td> 21597</td>      <th>  AIC:               </th>  <td>5.966e+05</td> \n",
       "</tr>\n",
       "<tr>\n",
       "  <th>Df Residuals:</th>          <td> 21585</td>      <th>  BIC:               </th>  <td>5.967e+05</td> \n",
       "</tr>\n",
       "<tr>\n",
       "  <th>Df Model:</th>              <td>    11</td>      <th>                     </th>      <td> </td>     \n",
       "</tr>\n",
       "<tr>\n",
       "  <th>Covariance Type:</th>      <td>nonrobust</td>    <th>                     </th>      <td> </td>     \n",
       "</tr>\n",
       "</table>\n",
       "<table class=\"simpletable\">\n",
       "<tr>\n",
       "    <td></td>       <th>coef</th>     <th>std err</th>      <th>t</th>      <th>P>|t|</th>  <th>[0.025</th>    <th>0.975]</th>  \n",
       "</tr>\n",
       "<tr>\n",
       "  <th>const</th> <td> 5.403e+05</td> <td> 1640.951</td> <td>  329.258</td> <td> 0.000</td> <td> 5.37e+05</td> <td> 5.44e+05</td>\n",
       "</tr>\n",
       "<tr>\n",
       "  <th>x1</th>    <td>-3.987e+04</td> <td> 2080.647</td> <td>  -19.164</td> <td> 0.000</td> <td> -4.4e+04</td> <td>-3.58e+04</td>\n",
       "</tr>\n",
       "<tr>\n",
       "  <th>x2</th>    <td>-1.632e+04</td> <td> 2828.403</td> <td>   -5.771</td> <td> 0.000</td> <td>-2.19e+04</td> <td>-1.08e+04</td>\n",
       "</tr>\n",
       "<tr>\n",
       "  <th>x3</th>    <td> 1.557e+05</td> <td> 2.33e+04</td> <td>    6.681</td> <td> 0.000</td> <td>  1.1e+05</td> <td> 2.01e+05</td>\n",
       "</tr>\n",
       "<tr>\n",
       "  <th>x4</th>    <td> 1191.6489</td> <td> 2217.950</td> <td>    0.537</td> <td> 0.591</td> <td>-3155.697</td> <td> 5538.995</td>\n",
       "</tr>\n",
       "<tr>\n",
       "  <th>x5</th>    <td> 4.071e+04</td> <td> 1727.233</td> <td>   23.572</td> <td> 0.000</td> <td> 3.73e+04</td> <td> 4.41e+04</td>\n",
       "</tr>\n",
       "<tr>\n",
       "  <th>x6</th>    <td> 1.318e+05</td> <td> 2787.027</td> <td>   47.296</td> <td> 0.000</td> <td> 1.26e+05</td> <td> 1.37e+05</td>\n",
       "</tr>\n",
       "<tr>\n",
       "  <th>x7</th>    <td> 2.567e+04</td> <td>  2.1e+04</td> <td>    1.222</td> <td> 0.222</td> <td>-1.55e+04</td> <td> 6.68e+04</td>\n",
       "</tr>\n",
       "<tr>\n",
       "  <th>x8</th>    <td> 2.896e+04</td> <td> 1.14e+04</td> <td>    2.545</td> <td> 0.011</td> <td> 6651.599</td> <td> 5.13e+04</td>\n",
       "</tr>\n",
       "<tr>\n",
       "  <th>x9</th>    <td>-1305.2979</td> <td> 1641.465</td> <td>   -0.795</td> <td> 0.427</td> <td>-4522.691</td> <td> 1912.095</td>\n",
       "</tr>\n",
       "<tr>\n",
       "  <th>x10</th>   <td> 1.162e+04</td> <td> 2986.629</td> <td>    3.891</td> <td> 0.000</td> <td> 5767.705</td> <td> 1.75e+04</td>\n",
       "</tr>\n",
       "<tr>\n",
       "  <th>x11</th>   <td> 3.403e+04</td> <td> 1650.148</td> <td>   20.620</td> <td> 0.000</td> <td> 3.08e+04</td> <td> 3.73e+04</td>\n",
       "</tr>\n",
       "</table>\n",
       "<table class=\"simpletable\">\n",
       "<tr>\n",
       "  <th>Omnibus:</th>       <td>16818.210</td> <th>  Durbin-Watson:     </th>  <td>   1.983</td>  \n",
       "</tr>\n",
       "<tr>\n",
       "  <th>Prob(Omnibus):</th>  <td> 0.000</td>   <th>  Jarque-Bera (JB):  </th> <td>1004862.557</td>\n",
       "</tr>\n",
       "<tr>\n",
       "  <th>Skew:</th>           <td> 3.256</td>   <th>  Prob(JB):          </th>  <td>    0.00</td>  \n",
       "</tr>\n",
       "<tr>\n",
       "  <th>Kurtosis:</th>       <td>35.776</td>   <th>  Cond. No.          </th>  <td>    40.4</td>  \n",
       "</tr>\n",
       "</table><br/><br/>Warnings:<br/>[1] Standard Errors assume that the covariance matrix of the errors is correctly specified."
      ],
      "text/plain": [
       "<class 'statsmodels.iolib.summary.Summary'>\n",
       "\"\"\"\n",
       "                            OLS Regression Results                            \n",
       "==============================================================================\n",
       "Dep. Variable:                  price   R-squared:                       0.569\n",
       "Model:                            OLS   Adj. R-squared:                  0.569\n",
       "Method:                 Least Squares   F-statistic:                     2594.\n",
       "Date:                Fri, 15 Jan 2021   Prob (F-statistic):               0.00\n",
       "Time:                        12:37:41   Log-Likelihood:            -2.9829e+05\n",
       "No. Observations:               21597   AIC:                         5.966e+05\n",
       "Df Residuals:                   21585   BIC:                         5.967e+05\n",
       "Df Model:                          11                                         \n",
       "Covariance Type:            nonrobust                                         \n",
       "==============================================================================\n",
       "                 coef    std err          t      P>|t|      [0.025      0.975]\n",
       "------------------------------------------------------------------------------\n",
       "const       5.403e+05   1640.951    329.258      0.000    5.37e+05    5.44e+05\n",
       "x1         -3.987e+04   2080.647    -19.164      0.000    -4.4e+04   -3.58e+04\n",
       "x2         -1.632e+04   2828.403     -5.771      0.000   -2.19e+04   -1.08e+04\n",
       "x3          1.557e+05   2.33e+04      6.681      0.000     1.1e+05    2.01e+05\n",
       "x4          1191.6489   2217.950      0.537      0.591   -3155.697    5538.995\n",
       "x5          4.071e+04   1727.233     23.572      0.000    3.73e+04    4.41e+04\n",
       "x6          1.318e+05   2787.027     47.296      0.000    1.26e+05    1.37e+05\n",
       "x7          2.567e+04    2.1e+04      1.222      0.222   -1.55e+04    6.68e+04\n",
       "x8          2.896e+04   1.14e+04      2.545      0.011    6651.599    5.13e+04\n",
       "x9         -1305.2979   1641.465     -0.795      0.427   -4522.691    1912.095\n",
       "x10         1.162e+04   2986.629      3.891      0.000    5767.705    1.75e+04\n",
       "x11         3.403e+04   1650.148     20.620      0.000    3.08e+04    3.73e+04\n",
       "==============================================================================\n",
       "Omnibus:                    16818.210   Durbin-Watson:                   1.983\n",
       "Prob(Omnibus):                  0.000   Jarque-Bera (JB):          1004862.557\n",
       "Skew:                           3.256   Prob(JB):                         0.00\n",
       "Kurtosis:                      35.776   Cond. No.                         40.4\n",
       "==============================================================================\n",
       "\n",
       "Warnings:\n",
       "[1] Standard Errors assume that the covariance matrix of the errors is correctly specified.\n",
       "\"\"\""
      ]
     },
     "execution_count": 161,
     "metadata": {},
     "output_type": "execute_result"
    }
   ],
   "source": [
    "# Look at our results\n",
    "scaled_results = scaled_model.fit()\n",
    "\n",
    "scaled_results.summary()\n",
    "# same r-squared and p-values, look at coefficients to see how they impact y\n",
    "# 1 scaled unit if [feature] increases/decreases price by coef #\n",
    "# sqft_living and grade big drivers of price"
   ]
  },
  {
   "cell_type": "code",
   "execution_count": 162,
   "metadata": {},
   "outputs": [
    {
     "data": {
      "text/html": [
       "<table class=\"simpletable\">\n",
       "<caption>OLS Regression Results</caption>\n",
       "<tr>\n",
       "  <th>Dep. Variable:</th>          <td>price</td>      <th>  R-squared:         </th>  <td>   0.569</td>  \n",
       "</tr>\n",
       "<tr>\n",
       "  <th>Model:</th>                   <td>OLS</td>       <th>  Adj. R-squared:    </th>  <td>   0.569</td>  \n",
       "</tr>\n",
       "<tr>\n",
       "  <th>Method:</th>             <td>Least Squares</td>  <th>  F-statistic:       </th>  <td>   2594.</td>  \n",
       "</tr>\n",
       "<tr>\n",
       "  <th>Date:</th>             <td>Fri, 15 Jan 2021</td> <th>  Prob (F-statistic):</th>   <td>  0.00</td>   \n",
       "</tr>\n",
       "<tr>\n",
       "  <th>Time:</th>                 <td>12:37:41</td>     <th>  Log-Likelihood:    </th> <td>-2.9829e+05</td>\n",
       "</tr>\n",
       "<tr>\n",
       "  <th>No. Observations:</th>      <td> 21597</td>      <th>  AIC:               </th>  <td>5.966e+05</td> \n",
       "</tr>\n",
       "<tr>\n",
       "  <th>Df Residuals:</th>          <td> 21585</td>      <th>  BIC:               </th>  <td>5.967e+05</td> \n",
       "</tr>\n",
       "<tr>\n",
       "  <th>Df Model:</th>              <td>    11</td>      <th>                     </th>      <td> </td>     \n",
       "</tr>\n",
       "<tr>\n",
       "  <th>Covariance Type:</th>      <td>nonrobust</td>    <th>                     </th>      <td> </td>     \n",
       "</tr>\n",
       "</table>\n",
       "<table class=\"simpletable\">\n",
       "<tr>\n",
       "           <td></td>             <th>coef</th>     <th>std err</th>      <th>t</th>      <th>P>|t|</th>  <th>[0.025</th>    <th>0.975]</th>  \n",
       "</tr>\n",
       "<tr>\n",
       "  <th>const</th>              <td>-7.657e+05</td> <td> 3.55e+04</td> <td>  -21.589</td> <td> 0.000</td> <td>-8.35e+05</td> <td>-6.96e+05</td>\n",
       "</tr>\n",
       "<tr>\n",
       "  <th>bedrooms</th>           <td>-4.305e+04</td> <td> 2246.246</td> <td>  -19.164</td> <td> 0.000</td> <td>-4.75e+04</td> <td>-3.86e+04</td>\n",
       "</tr>\n",
       "<tr>\n",
       "  <th>bathrooms</th>          <td>-2.123e+04</td> <td> 3678.188</td> <td>   -5.771</td> <td> 0.000</td> <td>-2.84e+04</td> <td> -1.4e+04</td>\n",
       "</tr>\n",
       "<tr>\n",
       "  <th>sqft_living</th>        <td>  169.5554</td> <td>   25.379</td> <td>    6.681</td> <td> 0.000</td> <td>  119.810</td> <td>  219.301</td>\n",
       "</tr>\n",
       "<tr>\n",
       "  <th>floors</th>             <td> 2208.1053</td> <td> 4109.824</td> <td>    0.537</td> <td> 0.591</td> <td>-5847.454</td> <td> 1.03e+04</td>\n",
       "</tr>\n",
       "<tr>\n",
       "  <th>condition</th>          <td> 6.259e+04</td> <td> 2655.114</td> <td>   23.572</td> <td> 0.000</td> <td> 5.74e+04</td> <td> 6.78e+04</td>\n",
       "</tr>\n",
       "<tr>\n",
       "  <th>grade</th>              <td> 1.124e+05</td> <td> 2375.633</td> <td>   47.296</td> <td> 0.000</td> <td> 1.08e+05</td> <td> 1.17e+05</td>\n",
       "</tr>\n",
       "<tr>\n",
       "  <th>sqft_above</th>         <td>   31.0099</td> <td>   25.367</td> <td>    1.222</td> <td> 0.222</td> <td>  -18.711</td> <td>   80.730</td>\n",
       "</tr>\n",
       "<tr>\n",
       "  <th>sqft_basement</th>      <td>   66.1367</td> <td>   25.991</td> <td>    2.545</td> <td> 0.011</td> <td>   15.193</td> <td>  117.081</td>\n",
       "</tr>\n",
       "<tr>\n",
       "  <th>has_been_viewed</th>    <td> -2.42e+04</td> <td> 3.04e+04</td> <td>   -0.795</td> <td> 0.427</td> <td>-8.39e+04</td> <td> 3.55e+04</td>\n",
       "</tr>\n",
       "<tr>\n",
       "  <th>has_basement</th>       <td> 2.388e+04</td> <td> 6137.512</td> <td>    3.891</td> <td> 0.000</td> <td> 1.19e+04</td> <td> 3.59e+04</td>\n",
       "</tr>\n",
       "<tr>\n",
       "  <th>has_been_renovated</th> <td> 1.866e+05</td> <td> 9047.855</td> <td>   20.620</td> <td> 0.000</td> <td> 1.69e+05</td> <td> 2.04e+05</td>\n",
       "</tr>\n",
       "</table>\n",
       "<table class=\"simpletable\">\n",
       "<tr>\n",
       "  <th>Omnibus:</th>       <td>16818.210</td> <th>  Durbin-Watson:     </th>  <td>   1.983</td>  \n",
       "</tr>\n",
       "<tr>\n",
       "  <th>Prob(Omnibus):</th>  <td> 0.000</td>   <th>  Jarque-Bera (JB):  </th> <td>1004862.557</td>\n",
       "</tr>\n",
       "<tr>\n",
       "  <th>Skew:</th>           <td> 3.256</td>   <th>  Prob(JB):          </th>  <td>    0.00</td>  \n",
       "</tr>\n",
       "<tr>\n",
       "  <th>Kurtosis:</th>       <td>35.776</td>   <th>  Cond. No.          </th>  <td>8.27e+04</td>  \n",
       "</tr>\n",
       "</table><br/><br/>Warnings:<br/>[1] Standard Errors assume that the covariance matrix of the errors is correctly specified.<br/>[2] The condition number is large, 8.27e+04. This might indicate that there are<br/>strong multicollinearity or other numerical problems."
      ],
      "text/plain": [
       "<class 'statsmodels.iolib.summary.Summary'>\n",
       "\"\"\"\n",
       "                            OLS Regression Results                            \n",
       "==============================================================================\n",
       "Dep. Variable:                  price   R-squared:                       0.569\n",
       "Model:                            OLS   Adj. R-squared:                  0.569\n",
       "Method:                 Least Squares   F-statistic:                     2594.\n",
       "Date:                Fri, 15 Jan 2021   Prob (F-statistic):               0.00\n",
       "Time:                        12:37:41   Log-Likelihood:            -2.9829e+05\n",
       "No. Observations:               21597   AIC:                         5.966e+05\n",
       "Df Residuals:                   21585   BIC:                         5.967e+05\n",
       "Df Model:                          11                                         \n",
       "Covariance Type:            nonrobust                                         \n",
       "======================================================================================\n",
       "                         coef    std err          t      P>|t|      [0.025      0.975]\n",
       "--------------------------------------------------------------------------------------\n",
       "const              -7.657e+05   3.55e+04    -21.589      0.000   -8.35e+05   -6.96e+05\n",
       "bedrooms           -4.305e+04   2246.246    -19.164      0.000   -4.75e+04   -3.86e+04\n",
       "bathrooms          -2.123e+04   3678.188     -5.771      0.000   -2.84e+04    -1.4e+04\n",
       "sqft_living          169.5554     25.379      6.681      0.000     119.810     219.301\n",
       "floors              2208.1053   4109.824      0.537      0.591   -5847.454    1.03e+04\n",
       "condition           6.259e+04   2655.114     23.572      0.000    5.74e+04    6.78e+04\n",
       "grade               1.124e+05   2375.633     47.296      0.000    1.08e+05    1.17e+05\n",
       "sqft_above            31.0099     25.367      1.222      0.222     -18.711      80.730\n",
       "sqft_basement         66.1367     25.991      2.545      0.011      15.193     117.081\n",
       "has_been_viewed     -2.42e+04   3.04e+04     -0.795      0.427   -8.39e+04    3.55e+04\n",
       "has_basement        2.388e+04   6137.512      3.891      0.000    1.19e+04    3.59e+04\n",
       "has_been_renovated  1.866e+05   9047.855     20.620      0.000    1.69e+05    2.04e+05\n",
       "==============================================================================\n",
       "Omnibus:                    16818.210   Durbin-Watson:                   1.983\n",
       "Prob(Omnibus):                  0.000   Jarque-Bera (JB):          1004862.557\n",
       "Skew:                           3.256   Prob(JB):                         0.00\n",
       "Kurtosis:                      35.776   Cond. No.                     8.27e+04\n",
       "==============================================================================\n",
       "\n",
       "Warnings:\n",
       "[1] Standard Errors assume that the covariance matrix of the errors is correctly specified.\n",
       "[2] The condition number is large, 8.27e+04. This might indicate that there are\n",
       "strong multicollinearity or other numerical problems.\n",
       "\"\"\""
      ]
     },
     "execution_count": 162,
     "metadata": {},
     "output_type": "execute_result"
    }
   ],
   "source": [
    "# Compare to original \n",
    "results.summary()"
   ]
  },
  {
   "cell_type": "markdown",
   "metadata": {},
   "source": [
    "## Now with Train-Test-Split"
   ]
  },
  {
   "cell_type": "code",
   "execution_count": 163,
   "metadata": {},
   "outputs": [],
   "source": [
    "X_train, X_test, y_train, y_test = train_test_split(X, y, test_size=0.33, random_state=42)"
   ]
  },
  {
   "cell_type": "code",
   "execution_count": 164,
   "metadata": {},
   "outputs": [],
   "source": [
    "# Instantiate a new scaler to scale our data\n",
    "# Let's use Standard Scaler here\n",
    "scaler = StandardScaler()"
   ]
  },
  {
   "cell_type": "code",
   "execution_count": 165,
   "metadata": {},
   "outputs": [],
   "source": [
    "# Fit our scaler - ON THE TRAINING DATA!!\n",
    "# Then transform both train and test \n",
    "\n",
    "scaler.fit(X_train) #fit on training data; learns mean and standard deviations of the columns that have been fit\n",
    "\n",
    "#transform both\n",
    "X_train_scaled = scaler.transform(X_train)\n",
    "X_test_scaled = scaler.transform(X_test)"
   ]
  },
  {
   "cell_type": "code",
   "execution_count": 166,
   "metadata": {},
   "outputs": [],
   "source": [
    "# Fit our scaler - ON THE TRAINING DATA!!\n",
    "# Then transform both train and test \n",
    "\n",
    "scaler.fit(X_train) #fit on training data; learns mean and standard deviations of the columns that have been fit\n",
    "\n",
    "#transform both\n",
    "X_train_scaled = scaler.transform(X_train)\n",
    "X_test_scaled = scaler.transform(X_test)"
   ]
  },
  {
   "cell_type": "code",
   "execution_count": 167,
   "metadata": {},
   "outputs": [],
   "source": [
    "# Instantiate an sklearn linear model\n",
    "from sklearn.linear_model import LinearRegression\n",
    "\n",
    "lr = LinearRegression()"
   ]
  },
  {
   "cell_type": "code",
   "execution_count": 168,
   "metadata": {},
   "outputs": [
    {
     "data": {
      "text/plain": [
       "LinearRegression()"
      ]
     },
     "execution_count": 168,
     "metadata": {},
     "output_type": "execute_result"
    }
   ],
   "source": [
    "# Fit your model - ON THE TRAINING DATA!!\n",
    "\n",
    "lr.fit(X_train_scaled, y_train)"
   ]
  },
  {
   "cell_type": "code",
   "execution_count": 169,
   "metadata": {},
   "outputs": [],
   "source": [
    "# Grab predictions for train and test set\n",
    "\n",
    "y_pred_train = lr.predict(X_train_scaled)\n",
    "y_pred_test = lr.predict(X_test_scaled)"
   ]
  },
  {
   "cell_type": "code",
   "execution_count": 170,
   "metadata": {},
   "outputs": [
    {
     "name": "stdout",
     "output_type": "stream",
     "text": [
      "Training Scores:\n",
      "R2: 0.5588979162038594\n",
      "Mean Absolute Error: 156710.2345290629\n",
      "Root Mean Squared Error: 395.86643521402885\n",
      "---\n",
      "Testing Scores:\n",
      "R2: 0.5890000675400974\n",
      "Mean Absolute Error: 154858.12822655207\n",
      "Root Mean Squared Error: 393.52017512009735\n"
     ]
    }
   ],
   "source": [
    "# How'd we do?\n",
    "from sklearn.metrics import r2_score\n",
    "\n",
    "print(\"Training Scores:\")\n",
    "print(f\"R2: {r2_score(y_train, y_pred_train)}\") #can account for X amount of variance\n",
    "print(f\"Mean Absolute Error: {mean_absolute_error(y_train, y_pred_train)}\") \n",
    "print(f\"Root Mean Squared Error: {np.sqrt(mean_absolute_error(y_train, y_pred_train))}\")#about X amount off in predicting price\n",
    "print(\"---\")\n",
    "print(\"Testing Scores:\")\n",
    "print(f\"R2: {r2_score(y_test, y_pred_test)}\")\n",
    "print(f\"Mean Absolute Error: {mean_absolute_error(y_test, y_pred_test)}\")\n",
    "print(f\"Root Mean Squared Error: {np.sqrt(mean_absolute_error(y_test, y_pred_test))}\") #about X amount off in predicting price"
   ]
  },
  {
   "cell_type": "markdown",
   "metadata": {},
   "source": [
    "## Learning: Testing > Training, model is underfit\n",
    "Only assess model on test score"
   ]
  },
  {
   "cell_type": "markdown",
   "metadata": {},
   "source": [
    "# Now with Statsmodels - Reading p-values on train vs test what should guide something as not significant?"
   ]
  },
  {
   "cell_type": "code",
   "execution_count": 171,
   "metadata": {},
   "outputs": [],
   "source": [
    "model = sm.OLS(y_test, sm.add_constant(X_test_scaled))"
   ]
  },
  {
   "cell_type": "code",
   "execution_count": 172,
   "metadata": {},
   "outputs": [
    {
     "data": {
      "text/html": [
       "<table class=\"simpletable\">\n",
       "<caption>OLS Regression Results</caption>\n",
       "<tr>\n",
       "  <th>Dep. Variable:</th>          <td>price</td>      <th>  R-squared:         </th> <td>   0.591</td> \n",
       "</tr>\n",
       "<tr>\n",
       "  <th>Model:</th>                   <td>OLS</td>       <th>  Adj. R-squared:    </th> <td>   0.590</td> \n",
       "</tr>\n",
       "<tr>\n",
       "  <th>Method:</th>             <td>Least Squares</td>  <th>  F-statistic:       </th> <td>   934.0</td> \n",
       "</tr>\n",
       "<tr>\n",
       "  <th>Date:</th>             <td>Fri, 15 Jan 2021</td> <th>  Prob (F-statistic):</th>  <td>  0.00</td>  \n",
       "</tr>\n",
       "<tr>\n",
       "  <th>Time:</th>                 <td>12:37:41</td>     <th>  Log-Likelihood:    </th> <td> -98349.</td> \n",
       "</tr>\n",
       "<tr>\n",
       "  <th>No. Observations:</th>      <td>  7128</td>      <th>  AIC:               </th> <td>1.967e+05</td>\n",
       "</tr>\n",
       "<tr>\n",
       "  <th>Df Residuals:</th>          <td>  7116</td>      <th>  BIC:               </th> <td>1.968e+05</td>\n",
       "</tr>\n",
       "<tr>\n",
       "  <th>Df Model:</th>              <td>    11</td>      <th>                     </th>     <td> </td>    \n",
       "</tr>\n",
       "<tr>\n",
       "  <th>Covariance Type:</th>      <td>nonrobust</td>    <th>                     </th>     <td> </td>    \n",
       "</tr>\n",
       "</table>\n",
       "<table class=\"simpletable\">\n",
       "<tr>\n",
       "    <td></td>       <th>coef</th>     <th>std err</th>      <th>t</th>      <th>P>|t|</th>  <th>[0.025</th>    <th>0.975]</th>  \n",
       "</tr>\n",
       "<tr>\n",
       "  <th>const</th> <td> 5.361e+05</td> <td> 2820.821</td> <td>  190.034</td> <td> 0.000</td> <td> 5.31e+05</td> <td> 5.42e+05</td>\n",
       "</tr>\n",
       "<tr>\n",
       "  <th>x1</th>    <td>-4.598e+04</td> <td> 3838.123</td> <td>  -11.981</td> <td> 0.000</td> <td>-5.35e+04</td> <td>-3.85e+04</td>\n",
       "</tr>\n",
       "<tr>\n",
       "  <th>x2</th>    <td>-1.816e+04</td> <td> 4803.504</td> <td>   -3.780</td> <td> 0.000</td> <td>-2.76e+04</td> <td>-8741.124</td>\n",
       "</tr>\n",
       "<tr>\n",
       "  <th>x3</th>    <td> 1.568e+05</td> <td> 3.88e+04</td> <td>    4.037</td> <td> 0.000</td> <td> 8.07e+04</td> <td> 2.33e+05</td>\n",
       "</tr>\n",
       "<tr>\n",
       "  <th>x4</th>    <td> 3164.6748</td> <td> 3836.709</td> <td>    0.825</td> <td> 0.409</td> <td>-4356.416</td> <td> 1.07e+04</td>\n",
       "</tr>\n",
       "<tr>\n",
       "  <th>x5</th>    <td> 3.834e+04</td> <td> 3011.564</td> <td>   12.731</td> <td> 0.000</td> <td> 3.24e+04</td> <td> 4.42e+04</td>\n",
       "</tr>\n",
       "<tr>\n",
       "  <th>x6</th>    <td> 1.293e+05</td> <td> 4789.765</td> <td>   27.002</td> <td> 0.000</td> <td>  1.2e+05</td> <td> 1.39e+05</td>\n",
       "</tr>\n",
       "<tr>\n",
       "  <th>x7</th>    <td> 2.903e+04</td> <td>  3.5e+04</td> <td>    0.830</td> <td> 0.406</td> <td>-3.95e+04</td> <td> 9.76e+04</td>\n",
       "</tr>\n",
       "<tr>\n",
       "  <th>x8</th>    <td> 4.187e+04</td> <td> 1.89e+04</td> <td>    2.213</td> <td> 0.027</td> <td> 4786.362</td> <td>  7.9e+04</td>\n",
       "</tr>\n",
       "<tr>\n",
       "  <th>x9</th>    <td> 1574.6832</td> <td> 2441.331</td> <td>    0.645</td> <td> 0.519</td> <td>-3211.052</td> <td> 6360.419</td>\n",
       "</tr>\n",
       "<tr>\n",
       "  <th>x10</th>   <td> 5698.9684</td> <td> 5049.418</td> <td>    1.129</td> <td> 0.259</td> <td>-4199.393</td> <td> 1.56e+04</td>\n",
       "</tr>\n",
       "<tr>\n",
       "  <th>x11</th>   <td> 3.687e+04</td> <td> 2838.486</td> <td>   12.991</td> <td> 0.000</td> <td> 3.13e+04</td> <td> 4.24e+04</td>\n",
       "</tr>\n",
       "</table>\n",
       "<table class=\"simpletable\">\n",
       "<tr>\n",
       "  <th>Omnibus:</th>       <td>5376.706</td> <th>  Durbin-Watson:     </th>  <td>   1.967</td> \n",
       "</tr>\n",
       "<tr>\n",
       "  <th>Prob(Omnibus):</th>  <td> 0.000</td>  <th>  Jarque-Bera (JB):  </th> <td>304486.360</td>\n",
       "</tr>\n",
       "<tr>\n",
       "  <th>Skew:</th>           <td> 3.088</td>  <th>  Prob(JB):          </th>  <td>    0.00</td> \n",
       "</tr>\n",
       "<tr>\n",
       "  <th>Kurtosis:</th>       <td>34.418</td>  <th>  Cond. No.          </th>  <td>    39.4</td> \n",
       "</tr>\n",
       "</table><br/><br/>Warnings:<br/>[1] Standard Errors assume that the covariance matrix of the errors is correctly specified."
      ],
      "text/plain": [
       "<class 'statsmodels.iolib.summary.Summary'>\n",
       "\"\"\"\n",
       "                            OLS Regression Results                            \n",
       "==============================================================================\n",
       "Dep. Variable:                  price   R-squared:                       0.591\n",
       "Model:                            OLS   Adj. R-squared:                  0.590\n",
       "Method:                 Least Squares   F-statistic:                     934.0\n",
       "Date:                Fri, 15 Jan 2021   Prob (F-statistic):               0.00\n",
       "Time:                        12:37:41   Log-Likelihood:                -98349.\n",
       "No. Observations:                7128   AIC:                         1.967e+05\n",
       "Df Residuals:                    7116   BIC:                         1.968e+05\n",
       "Df Model:                          11                                         \n",
       "Covariance Type:            nonrobust                                         \n",
       "==============================================================================\n",
       "                 coef    std err          t      P>|t|      [0.025      0.975]\n",
       "------------------------------------------------------------------------------\n",
       "const       5.361e+05   2820.821    190.034      0.000    5.31e+05    5.42e+05\n",
       "x1         -4.598e+04   3838.123    -11.981      0.000   -5.35e+04   -3.85e+04\n",
       "x2         -1.816e+04   4803.504     -3.780      0.000   -2.76e+04   -8741.124\n",
       "x3          1.568e+05   3.88e+04      4.037      0.000    8.07e+04    2.33e+05\n",
       "x4          3164.6748   3836.709      0.825      0.409   -4356.416    1.07e+04\n",
       "x5          3.834e+04   3011.564     12.731      0.000    3.24e+04    4.42e+04\n",
       "x6          1.293e+05   4789.765     27.002      0.000     1.2e+05    1.39e+05\n",
       "x7          2.903e+04    3.5e+04      0.830      0.406   -3.95e+04    9.76e+04\n",
       "x8          4.187e+04   1.89e+04      2.213      0.027    4786.362     7.9e+04\n",
       "x9          1574.6832   2441.331      0.645      0.519   -3211.052    6360.419\n",
       "x10         5698.9684   5049.418      1.129      0.259   -4199.393    1.56e+04\n",
       "x11         3.687e+04   2838.486     12.991      0.000    3.13e+04    4.24e+04\n",
       "==============================================================================\n",
       "Omnibus:                     5376.706   Durbin-Watson:                   1.967\n",
       "Prob(Omnibus):                  0.000   Jarque-Bera (JB):           304486.360\n",
       "Skew:                           3.088   Prob(JB):                         0.00\n",
       "Kurtosis:                      34.418   Cond. No.                         39.4\n",
       "==============================================================================\n",
       "\n",
       "Warnings:\n",
       "[1] Standard Errors assume that the covariance matrix of the errors is correctly specified.\n",
       "\"\"\""
      ]
     },
     "execution_count": 172,
     "metadata": {},
     "output_type": "execute_result"
    }
   ],
   "source": [
    "results = model.fit()\n",
    "\n",
    "results.summary()"
   ]
  },
  {
   "cell_type": "code",
   "execution_count": 173,
   "metadata": {},
   "outputs": [],
   "source": [
    "model = sm.OLS(y_train, sm.add_constant(X_train_scaled))"
   ]
  },
  {
   "cell_type": "code",
   "execution_count": 174,
   "metadata": {},
   "outputs": [
    {
     "data": {
      "text/html": [
       "<table class=\"simpletable\">\n",
       "<caption>OLS Regression Results</caption>\n",
       "<tr>\n",
       "  <th>Dep. Variable:</th>          <td>price</td>      <th>  R-squared:         </th>  <td>   0.559</td>  \n",
       "</tr>\n",
       "<tr>\n",
       "  <th>Model:</th>                   <td>OLS</td>       <th>  Adj. R-squared:    </th>  <td>   0.559</td>  \n",
       "</tr>\n",
       "<tr>\n",
       "  <th>Method:</th>             <td>Least Squares</td>  <th>  F-statistic:       </th>  <td>   1665.</td>  \n",
       "</tr>\n",
       "<tr>\n",
       "  <th>Date:</th>             <td>Fri, 15 Jan 2021</td> <th>  Prob (F-statistic):</th>   <td>  0.00</td>   \n",
       "</tr>\n",
       "<tr>\n",
       "  <th>Time:</th>                 <td>12:37:41</td>     <th>  Log-Likelihood:    </th> <td>-1.9993e+05</td>\n",
       "</tr>\n",
       "<tr>\n",
       "  <th>No. Observations:</th>      <td> 14469</td>      <th>  AIC:               </th>  <td>3.999e+05</td> \n",
       "</tr>\n",
       "<tr>\n",
       "  <th>Df Residuals:</th>          <td> 14457</td>      <th>  BIC:               </th>  <td>4.000e+05</td> \n",
       "</tr>\n",
       "<tr>\n",
       "  <th>Df Model:</th>              <td>    11</td>      <th>                     </th>      <td> </td>     \n",
       "</tr>\n",
       "<tr>\n",
       "  <th>Covariance Type:</th>      <td>nonrobust</td>    <th>                     </th>      <td> </td>     \n",
       "</tr>\n",
       "</table>\n",
       "<table class=\"simpletable\">\n",
       "<tr>\n",
       "    <td></td>       <th>coef</th>     <th>std err</th>      <th>t</th>      <th>P>|t|</th>  <th>[0.025</th>    <th>0.975]</th>  \n",
       "</tr>\n",
       "<tr>\n",
       "  <th>const</th> <td> 5.378e+05</td> <td> 2017.537</td> <td>  266.553</td> <td> 0.000</td> <td> 5.34e+05</td> <td> 5.42e+05</td>\n",
       "</tr>\n",
       "<tr>\n",
       "  <th>x1</th>    <td>-3.825e+04</td> <td> 2555.501</td> <td>  -14.968</td> <td> 0.000</td> <td>-4.33e+04</td> <td>-3.32e+04</td>\n",
       "</tr>\n",
       "<tr>\n",
       "  <th>x2</th>    <td> -1.55e+04</td> <td> 3500.220</td> <td>   -4.427</td> <td> 0.000</td> <td>-2.24e+04</td> <td>-8635.695</td>\n",
       "</tr>\n",
       "<tr>\n",
       "  <th>x3</th>    <td> 1.554e+05</td> <td> 2.89e+04</td> <td>    5.374</td> <td> 0.000</td> <td> 9.87e+04</td> <td> 2.12e+05</td>\n",
       "</tr>\n",
       "<tr>\n",
       "  <th>x4</th>    <td>  148.1664</td> <td> 2717.231</td> <td>    0.055</td> <td> 0.957</td> <td>-5177.954</td> <td> 5474.286</td>\n",
       "</tr>\n",
       "<tr>\n",
       "  <th>x5</th>    <td> 4.202e+04</td> <td> 2119.127</td> <td>   19.828</td> <td> 0.000</td> <td> 3.79e+04</td> <td> 4.62e+04</td>\n",
       "</tr>\n",
       "<tr>\n",
       "  <th>x6</th>    <td>  1.32e+05</td> <td> 3399.488</td> <td>   38.815</td> <td> 0.000</td> <td> 1.25e+05</td> <td> 1.39e+05</td>\n",
       "</tr>\n",
       "<tr>\n",
       "  <th>x7</th>    <td> 2.289e+04</td> <td>  2.6e+04</td> <td>    0.880</td> <td> 0.379</td> <td>-2.81e+04</td> <td> 7.39e+04</td>\n",
       "</tr>\n",
       "<tr>\n",
       "  <th>x8</th>    <td> 2.092e+04</td> <td> 1.41e+04</td> <td>    1.487</td> <td> 0.137</td> <td>-6661.268</td> <td> 4.85e+04</td>\n",
       "</tr>\n",
       "<tr>\n",
       "  <th>x9</th>    <td>-3094.0688</td> <td> 2018.161</td> <td>   -1.533</td> <td> 0.125</td> <td>-7049.924</td> <td>  861.786</td>\n",
       "</tr>\n",
       "<tr>\n",
       "  <th>x10</th>   <td> 1.521e+04</td> <td> 3703.526</td> <td>    4.107</td> <td> 0.000</td> <td> 7951.790</td> <td> 2.25e+04</td>\n",
       "</tr>\n",
       "<tr>\n",
       "  <th>x11</th>   <td> 3.265e+04</td> <td> 2029.178</td> <td>   16.089</td> <td> 0.000</td> <td> 2.87e+04</td> <td> 3.66e+04</td>\n",
       "</tr>\n",
       "</table>\n",
       "<table class=\"simpletable\">\n",
       "<tr>\n",
       "  <th>Omnibus:</th>       <td>11425.291</td> <th>  Durbin-Watson:     </th>  <td>   2.006</td> \n",
       "</tr>\n",
       "<tr>\n",
       "  <th>Prob(Omnibus):</th>  <td> 0.000</td>   <th>  Jarque-Bera (JB):  </th> <td>684572.103</td>\n",
       "</tr>\n",
       "<tr>\n",
       "  <th>Skew:</th>           <td> 3.324</td>   <th>  Prob(JB):          </th>  <td>    0.00</td> \n",
       "</tr>\n",
       "<tr>\n",
       "  <th>Kurtosis:</th>       <td>36.035</td>   <th>  Cond. No.          </th>  <td>    40.7</td> \n",
       "</tr>\n",
       "</table><br/><br/>Warnings:<br/>[1] Standard Errors assume that the covariance matrix of the errors is correctly specified."
      ],
      "text/plain": [
       "<class 'statsmodels.iolib.summary.Summary'>\n",
       "\"\"\"\n",
       "                            OLS Regression Results                            \n",
       "==============================================================================\n",
       "Dep. Variable:                  price   R-squared:                       0.559\n",
       "Model:                            OLS   Adj. R-squared:                  0.559\n",
       "Method:                 Least Squares   F-statistic:                     1665.\n",
       "Date:                Fri, 15 Jan 2021   Prob (F-statistic):               0.00\n",
       "Time:                        12:37:41   Log-Likelihood:            -1.9993e+05\n",
       "No. Observations:               14469   AIC:                         3.999e+05\n",
       "Df Residuals:                   14457   BIC:                         4.000e+05\n",
       "Df Model:                          11                                         \n",
       "Covariance Type:            nonrobust                                         \n",
       "==============================================================================\n",
       "                 coef    std err          t      P>|t|      [0.025      0.975]\n",
       "------------------------------------------------------------------------------\n",
       "const       5.378e+05   2017.537    266.553      0.000    5.34e+05    5.42e+05\n",
       "x1         -3.825e+04   2555.501    -14.968      0.000   -4.33e+04   -3.32e+04\n",
       "x2          -1.55e+04   3500.220     -4.427      0.000   -2.24e+04   -8635.695\n",
       "x3          1.554e+05   2.89e+04      5.374      0.000    9.87e+04    2.12e+05\n",
       "x4           148.1664   2717.231      0.055      0.957   -5177.954    5474.286\n",
       "x5          4.202e+04   2119.127     19.828      0.000    3.79e+04    4.62e+04\n",
       "x6           1.32e+05   3399.488     38.815      0.000    1.25e+05    1.39e+05\n",
       "x7          2.289e+04    2.6e+04      0.880      0.379   -2.81e+04    7.39e+04\n",
       "x8          2.092e+04   1.41e+04      1.487      0.137   -6661.268    4.85e+04\n",
       "x9         -3094.0688   2018.161     -1.533      0.125   -7049.924     861.786\n",
       "x10         1.521e+04   3703.526      4.107      0.000    7951.790    2.25e+04\n",
       "x11         3.265e+04   2029.178     16.089      0.000    2.87e+04    3.66e+04\n",
       "==============================================================================\n",
       "Omnibus:                    11425.291   Durbin-Watson:                   2.006\n",
       "Prob(Omnibus):                  0.000   Jarque-Bera (JB):           684572.103\n",
       "Skew:                           3.324   Prob(JB):                         0.00\n",
       "Kurtosis:                      36.035   Cond. No.                         40.7\n",
       "==============================================================================\n",
       "\n",
       "Warnings:\n",
       "[1] Standard Errors assume that the covariance matrix of the errors is correctly specified.\n",
       "\"\"\""
      ]
     },
     "execution_count": 174,
     "metadata": {},
     "output_type": "execute_result"
    }
   ],
   "source": [
    "results = model.fit()\n",
    "\n",
    "results.summary()"
   ]
  },
  {
   "cell_type": "markdown",
   "metadata": {},
   "source": [
    "## Adding in OHE grade_category, no drop first"
   ]
  },
  {
   "cell_type": "code",
   "execution_count": 175,
   "metadata": {},
   "outputs": [],
   "source": [
    "feats_in_control = ['price','bedrooms', 'bathrooms', 'sqft_living', 'floors', 'condition', 'grade', 'grade_category',\n",
    "                    'sqft_above', 'sqft_basement', 'has_been_viewed', 'has_basement', 'has_been_renovated']"
   ]
  },
  {
   "cell_type": "code",
   "execution_count": 176,
   "metadata": {},
   "outputs": [],
   "source": [
    "data_feats_in_control = data[feats_in_control]"
   ]
  },
  {
   "cell_type": "code",
   "execution_count": 177,
   "metadata": {},
   "outputs": [
    {
     "data": {
      "text/html": [
       "<div>\n",
       "<style scoped>\n",
       "    .dataframe tbody tr th:only-of-type {\n",
       "        vertical-align: middle;\n",
       "    }\n",
       "\n",
       "    .dataframe tbody tr th {\n",
       "        vertical-align: top;\n",
       "    }\n",
       "\n",
       "    .dataframe thead th {\n",
       "        text-align: right;\n",
       "    }\n",
       "</style>\n",
       "<table border=\"1\" class=\"dataframe\">\n",
       "  <thead>\n",
       "    <tr style=\"text-align: right;\">\n",
       "      <th></th>\n",
       "      <th>price</th>\n",
       "      <th>bedrooms</th>\n",
       "      <th>bathrooms</th>\n",
       "      <th>sqft_living</th>\n",
       "      <th>floors</th>\n",
       "      <th>condition</th>\n",
       "      <th>grade</th>\n",
       "      <th>grade_category</th>\n",
       "      <th>sqft_above</th>\n",
       "      <th>sqft_basement</th>\n",
       "      <th>has_been_viewed</th>\n",
       "      <th>has_basement</th>\n",
       "      <th>has_been_renovated</th>\n",
       "    </tr>\n",
       "  </thead>\n",
       "  <tbody>\n",
       "    <tr>\n",
       "      <th>0</th>\n",
       "      <td>325000.0</td>\n",
       "      <td>4</td>\n",
       "      <td>2.50</td>\n",
       "      <td>2240</td>\n",
       "      <td>2.0</td>\n",
       "      <td>4</td>\n",
       "      <td>8</td>\n",
       "      <td>Average</td>\n",
       "      <td>2240</td>\n",
       "      <td>0.0</td>\n",
       "      <td>1</td>\n",
       "      <td>0</td>\n",
       "      <td>0</td>\n",
       "    </tr>\n",
       "    <tr>\n",
       "      <th>1</th>\n",
       "      <td>540000.0</td>\n",
       "      <td>3</td>\n",
       "      <td>1.75</td>\n",
       "      <td>1630</td>\n",
       "      <td>2.0</td>\n",
       "      <td>3</td>\n",
       "      <td>8</td>\n",
       "      <td>Average</td>\n",
       "      <td>1020</td>\n",
       "      <td>610.0</td>\n",
       "      <td>1</td>\n",
       "      <td>1</td>\n",
       "      <td>0</td>\n",
       "    </tr>\n",
       "    <tr>\n",
       "      <th>2</th>\n",
       "      <td>344000.0</td>\n",
       "      <td>1</td>\n",
       "      <td>1.50</td>\n",
       "      <td>760</td>\n",
       "      <td>3.0</td>\n",
       "      <td>3</td>\n",
       "      <td>8</td>\n",
       "      <td>Average</td>\n",
       "      <td>760</td>\n",
       "      <td>0.0</td>\n",
       "      <td>1</td>\n",
       "      <td>0</td>\n",
       "      <td>0</td>\n",
       "    </tr>\n",
       "    <tr>\n",
       "      <th>3</th>\n",
       "      <td>565000.0</td>\n",
       "      <td>4</td>\n",
       "      <td>2.50</td>\n",
       "      <td>2500</td>\n",
       "      <td>1.0</td>\n",
       "      <td>3</td>\n",
       "      <td>9</td>\n",
       "      <td>Average</td>\n",
       "      <td>2500</td>\n",
       "      <td>0.0</td>\n",
       "      <td>1</td>\n",
       "      <td>0</td>\n",
       "      <td>0</td>\n",
       "    </tr>\n",
       "    <tr>\n",
       "      <th>4</th>\n",
       "      <td>320000.0</td>\n",
       "      <td>3</td>\n",
       "      <td>2.00</td>\n",
       "      <td>1250</td>\n",
       "      <td>1.0</td>\n",
       "      <td>5</td>\n",
       "      <td>7</td>\n",
       "      <td>Average</td>\n",
       "      <td>1250</td>\n",
       "      <td>0.0</td>\n",
       "      <td>1</td>\n",
       "      <td>0</td>\n",
       "      <td>0</td>\n",
       "    </tr>\n",
       "  </tbody>\n",
       "</table>\n",
       "</div>"
      ],
      "text/plain": [
       "      price  bedrooms  bathrooms  sqft_living  floors  condition  grade  \\\n",
       "0  325000.0         4       2.50         2240     2.0          4      8   \n",
       "1  540000.0         3       1.75         1630     2.0          3      8   \n",
       "2  344000.0         1       1.50          760     3.0          3      8   \n",
       "3  565000.0         4       2.50         2500     1.0          3      9   \n",
       "4  320000.0         3       2.00         1250     1.0          5      7   \n",
       "\n",
       "  grade_category  sqft_above  sqft_basement  has_been_viewed  has_basement  \\\n",
       "0        Average        2240            0.0                1             0   \n",
       "1        Average        1020          610.0                1             1   \n",
       "2        Average         760            0.0                1             0   \n",
       "3        Average        2500            0.0                1             0   \n",
       "4        Average        1250            0.0                1             0   \n",
       "\n",
       "   has_been_renovated  \n",
       "0                   0  \n",
       "1                   0  \n",
       "2                   0  \n",
       "3                   0  \n",
       "4                   0  "
      ]
     },
     "execution_count": 177,
     "metadata": {},
     "output_type": "execute_result"
    }
   ],
   "source": [
    "data_feats_in_control.head()"
   ]
  },
  {
   "cell_type": "code",
   "execution_count": 178,
   "metadata": {},
   "outputs": [],
   "source": [
    "data_OHE = pd.get_dummies(data_feats_in_control, columns=['grade_category'])"
   ]
  },
  {
   "cell_type": "code",
   "execution_count": 179,
   "metadata": {},
   "outputs": [
    {
     "data": {
      "text/html": [
       "<div>\n",
       "<style scoped>\n",
       "    .dataframe tbody tr th:only-of-type {\n",
       "        vertical-align: middle;\n",
       "    }\n",
       "\n",
       "    .dataframe tbody tr th {\n",
       "        vertical-align: top;\n",
       "    }\n",
       "\n",
       "    .dataframe thead th {\n",
       "        text-align: right;\n",
       "    }\n",
       "</style>\n",
       "<table border=\"1\" class=\"dataframe\">\n",
       "  <thead>\n",
       "    <tr style=\"text-align: right;\">\n",
       "      <th></th>\n",
       "      <th>price</th>\n",
       "      <th>bedrooms</th>\n",
       "      <th>bathrooms</th>\n",
       "      <th>sqft_living</th>\n",
       "      <th>floors</th>\n",
       "      <th>condition</th>\n",
       "      <th>grade</th>\n",
       "      <th>sqft_above</th>\n",
       "      <th>sqft_basement</th>\n",
       "      <th>has_been_viewed</th>\n",
       "      <th>has_basement</th>\n",
       "      <th>has_been_renovated</th>\n",
       "      <th>grade_category_Average</th>\n",
       "      <th>grade_category_High</th>\n",
       "      <th>grade_category_Low</th>\n",
       "    </tr>\n",
       "  </thead>\n",
       "  <tbody>\n",
       "    <tr>\n",
       "      <th>0</th>\n",
       "      <td>325000.0</td>\n",
       "      <td>4</td>\n",
       "      <td>2.50</td>\n",
       "      <td>2240</td>\n",
       "      <td>2.0</td>\n",
       "      <td>4</td>\n",
       "      <td>8</td>\n",
       "      <td>2240</td>\n",
       "      <td>0.0</td>\n",
       "      <td>1</td>\n",
       "      <td>0</td>\n",
       "      <td>0</td>\n",
       "      <td>1</td>\n",
       "      <td>0</td>\n",
       "      <td>0</td>\n",
       "    </tr>\n",
       "    <tr>\n",
       "      <th>1</th>\n",
       "      <td>540000.0</td>\n",
       "      <td>3</td>\n",
       "      <td>1.75</td>\n",
       "      <td>1630</td>\n",
       "      <td>2.0</td>\n",
       "      <td>3</td>\n",
       "      <td>8</td>\n",
       "      <td>1020</td>\n",
       "      <td>610.0</td>\n",
       "      <td>1</td>\n",
       "      <td>1</td>\n",
       "      <td>0</td>\n",
       "      <td>1</td>\n",
       "      <td>0</td>\n",
       "      <td>0</td>\n",
       "    </tr>\n",
       "    <tr>\n",
       "      <th>2</th>\n",
       "      <td>344000.0</td>\n",
       "      <td>1</td>\n",
       "      <td>1.50</td>\n",
       "      <td>760</td>\n",
       "      <td>3.0</td>\n",
       "      <td>3</td>\n",
       "      <td>8</td>\n",
       "      <td>760</td>\n",
       "      <td>0.0</td>\n",
       "      <td>1</td>\n",
       "      <td>0</td>\n",
       "      <td>0</td>\n",
       "      <td>1</td>\n",
       "      <td>0</td>\n",
       "      <td>0</td>\n",
       "    </tr>\n",
       "    <tr>\n",
       "      <th>3</th>\n",
       "      <td>565000.0</td>\n",
       "      <td>4</td>\n",
       "      <td>2.50</td>\n",
       "      <td>2500</td>\n",
       "      <td>1.0</td>\n",
       "      <td>3</td>\n",
       "      <td>9</td>\n",
       "      <td>2500</td>\n",
       "      <td>0.0</td>\n",
       "      <td>1</td>\n",
       "      <td>0</td>\n",
       "      <td>0</td>\n",
       "      <td>1</td>\n",
       "      <td>0</td>\n",
       "      <td>0</td>\n",
       "    </tr>\n",
       "    <tr>\n",
       "      <th>4</th>\n",
       "      <td>320000.0</td>\n",
       "      <td>3</td>\n",
       "      <td>2.00</td>\n",
       "      <td>1250</td>\n",
       "      <td>1.0</td>\n",
       "      <td>5</td>\n",
       "      <td>7</td>\n",
       "      <td>1250</td>\n",
       "      <td>0.0</td>\n",
       "      <td>1</td>\n",
       "      <td>0</td>\n",
       "      <td>0</td>\n",
       "      <td>1</td>\n",
       "      <td>0</td>\n",
       "      <td>0</td>\n",
       "    </tr>\n",
       "    <tr>\n",
       "      <th>...</th>\n",
       "      <td>...</td>\n",
       "      <td>...</td>\n",
       "      <td>...</td>\n",
       "      <td>...</td>\n",
       "      <td>...</td>\n",
       "      <td>...</td>\n",
       "      <td>...</td>\n",
       "      <td>...</td>\n",
       "      <td>...</td>\n",
       "      <td>...</td>\n",
       "      <td>...</td>\n",
       "      <td>...</td>\n",
       "      <td>...</td>\n",
       "      <td>...</td>\n",
       "      <td>...</td>\n",
       "    </tr>\n",
       "    <tr>\n",
       "      <th>21592</th>\n",
       "      <td>279000.0</td>\n",
       "      <td>3</td>\n",
       "      <td>1.00</td>\n",
       "      <td>1530</td>\n",
       "      <td>1.0</td>\n",
       "      <td>3</td>\n",
       "      <td>7</td>\n",
       "      <td>970</td>\n",
       "      <td>560.0</td>\n",
       "      <td>1</td>\n",
       "      <td>1</td>\n",
       "      <td>0</td>\n",
       "      <td>1</td>\n",
       "      <td>0</td>\n",
       "      <td>0</td>\n",
       "    </tr>\n",
       "    <tr>\n",
       "      <th>21593</th>\n",
       "      <td>456000.0</td>\n",
       "      <td>3</td>\n",
       "      <td>2.50</td>\n",
       "      <td>2130</td>\n",
       "      <td>2.0</td>\n",
       "      <td>3</td>\n",
       "      <td>8</td>\n",
       "      <td>2130</td>\n",
       "      <td>0.0</td>\n",
       "      <td>1</td>\n",
       "      <td>0</td>\n",
       "      <td>0</td>\n",
       "      <td>1</td>\n",
       "      <td>0</td>\n",
       "      <td>0</td>\n",
       "    </tr>\n",
       "    <tr>\n",
       "      <th>21594</th>\n",
       "      <td>280000.0</td>\n",
       "      <td>2</td>\n",
       "      <td>1.00</td>\n",
       "      <td>1260</td>\n",
       "      <td>1.0</td>\n",
       "      <td>3</td>\n",
       "      <td>6</td>\n",
       "      <td>1100</td>\n",
       "      <td>160.0</td>\n",
       "      <td>1</td>\n",
       "      <td>1</td>\n",
       "      <td>0</td>\n",
       "      <td>1</td>\n",
       "      <td>0</td>\n",
       "      <td>0</td>\n",
       "    </tr>\n",
       "    <tr>\n",
       "      <th>21595</th>\n",
       "      <td>359950.0</td>\n",
       "      <td>3</td>\n",
       "      <td>1.75</td>\n",
       "      <td>1570</td>\n",
       "      <td>1.0</td>\n",
       "      <td>3</td>\n",
       "      <td>7</td>\n",
       "      <td>1040</td>\n",
       "      <td>530.0</td>\n",
       "      <td>1</td>\n",
       "      <td>1</td>\n",
       "      <td>0</td>\n",
       "      <td>1</td>\n",
       "      <td>0</td>\n",
       "      <td>0</td>\n",
       "    </tr>\n",
       "    <tr>\n",
       "      <th>21596</th>\n",
       "      <td>425000.0</td>\n",
       "      <td>3</td>\n",
       "      <td>1.75</td>\n",
       "      <td>2500</td>\n",
       "      <td>1.0</td>\n",
       "      <td>3</td>\n",
       "      <td>8</td>\n",
       "      <td>1300</td>\n",
       "      <td>1200.0</td>\n",
       "      <td>1</td>\n",
       "      <td>1</td>\n",
       "      <td>0</td>\n",
       "      <td>1</td>\n",
       "      <td>0</td>\n",
       "      <td>0</td>\n",
       "    </tr>\n",
       "  </tbody>\n",
       "</table>\n",
       "<p>21597 rows × 15 columns</p>\n",
       "</div>"
      ],
      "text/plain": [
       "          price  bedrooms  bathrooms  sqft_living  floors  condition  grade  \\\n",
       "0      325000.0         4       2.50         2240     2.0          4      8   \n",
       "1      540000.0         3       1.75         1630     2.0          3      8   \n",
       "2      344000.0         1       1.50          760     3.0          3      8   \n",
       "3      565000.0         4       2.50         2500     1.0          3      9   \n",
       "4      320000.0         3       2.00         1250     1.0          5      7   \n",
       "...         ...       ...        ...          ...     ...        ...    ...   \n",
       "21592  279000.0         3       1.00         1530     1.0          3      7   \n",
       "21593  456000.0         3       2.50         2130     2.0          3      8   \n",
       "21594  280000.0         2       1.00         1260     1.0          3      6   \n",
       "21595  359950.0         3       1.75         1570     1.0          3      7   \n",
       "21596  425000.0         3       1.75         2500     1.0          3      8   \n",
       "\n",
       "       sqft_above  sqft_basement  has_been_viewed  has_basement  \\\n",
       "0            2240            0.0                1             0   \n",
       "1            1020          610.0                1             1   \n",
       "2             760            0.0                1             0   \n",
       "3            2500            0.0                1             0   \n",
       "4            1250            0.0                1             0   \n",
       "...           ...            ...              ...           ...   \n",
       "21592         970          560.0                1             1   \n",
       "21593        2130            0.0                1             0   \n",
       "21594        1100          160.0                1             1   \n",
       "21595        1040          530.0                1             1   \n",
       "21596        1300         1200.0                1             1   \n",
       "\n",
       "       has_been_renovated  grade_category_Average  grade_category_High  \\\n",
       "0                       0                       1                    0   \n",
       "1                       0                       1                    0   \n",
       "2                       0                       1                    0   \n",
       "3                       0                       1                    0   \n",
       "4                       0                       1                    0   \n",
       "...                   ...                     ...                  ...   \n",
       "21592                   0                       1                    0   \n",
       "21593                   0                       1                    0   \n",
       "21594                   0                       1                    0   \n",
       "21595                   0                       1                    0   \n",
       "21596                   0                       1                    0   \n",
       "\n",
       "       grade_category_Low  \n",
       "0                       0  \n",
       "1                       0  \n",
       "2                       0  \n",
       "3                       0  \n",
       "4                       0  \n",
       "...                   ...  \n",
       "21592                   0  \n",
       "21593                   0  \n",
       "21594                   0  \n",
       "21595                   0  \n",
       "21596                   0  \n",
       "\n",
       "[21597 rows x 15 columns]"
      ]
     },
     "execution_count": 179,
     "metadata": {},
     "output_type": "execute_result"
    }
   ],
   "source": [
    "data_OHE"
   ]
  },
  {
   "cell_type": "code",
   "execution_count": 180,
   "metadata": {},
   "outputs": [
    {
     "data": {
      "text/plain": [
       "Index(['price', 'bedrooms', 'bathrooms', 'sqft_living', 'floors', 'condition',\n",
       "       'grade', 'sqft_above', 'sqft_basement', 'has_been_viewed',\n",
       "       'has_basement', 'has_been_renovated', 'grade_category_Average',\n",
       "       'grade_category_High', 'grade_category_Low'],\n",
       "      dtype='object')"
      ]
     },
     "execution_count": 180,
     "metadata": {},
     "output_type": "execute_result"
    }
   ],
   "source": [
    "data_OHE.columns"
   ]
  },
  {
   "cell_type": "code",
   "execution_count": 181,
   "metadata": {},
   "outputs": [],
   "source": [
    "# Define X and y\n",
    "X_cols = [c for c in data_OHE.columns.to_list() if c not in ['price']]\n",
    "\n",
    "X = data_OHE[X_cols]\n",
    "y = data_OHE['price']"
   ]
  },
  {
   "cell_type": "code",
   "execution_count": 182,
   "metadata": {},
   "outputs": [],
   "source": [
    "# Perform a train/test split\n",
    "X_train, X_test, y_train, y_test = train_test_split(X, y, test_size=0.33, random_state=42)"
   ]
  },
  {
   "cell_type": "code",
   "execution_count": 183,
   "metadata": {},
   "outputs": [],
   "source": [
    "# Instantiate a scaler\n",
    "scaler = StandardScaler()"
   ]
  },
  {
   "cell_type": "code",
   "execution_count": 184,
   "metadata": {},
   "outputs": [],
   "source": [
    "# Train our scaler on training data, then fit to testing\n",
    "X_train_scaled = scaler.fit_transform(X_train)\n",
    "X_test_scaled = scaler.transform(X_test)"
   ]
  },
  {
   "cell_type": "code",
   "execution_count": 185,
   "metadata": {},
   "outputs": [],
   "source": [
    "# Instantiate a linear regression model\n",
    "lr = LinearRegression()"
   ]
  },
  {
   "cell_type": "code",
   "execution_count": 186,
   "metadata": {},
   "outputs": [
    {
     "data": {
      "text/plain": [
       "LinearRegression()"
      ]
     },
     "execution_count": 186,
     "metadata": {},
     "output_type": "execute_result"
    }
   ],
   "source": [
    "# Fit our model on our scaled data\n",
    "lr.fit(X_train_scaled, y_train)"
   ]
  },
  {
   "cell_type": "code",
   "execution_count": 187,
   "metadata": {
    "scrolled": true
   },
   "outputs": [
    {
     "name": "stdout",
     "output_type": "stream",
     "text": [
      "Training Scores:\n",
      "R2: 0.5752643218837833\n",
      "Mean Absolute Error: 152937.84549158774\n",
      "Root Mean Squared Error: 395.86643521402885\n",
      "---\n",
      "Testing Scores:\n",
      "R2: 0.6013935420406358\n",
      "Mean Absolute Error: 151694.2141391869\n",
      "Root Mean Squared Error: 389.4794142688249\n"
     ]
    }
   ],
   "source": [
    "# Evaluate\n",
    "y_train_pred = lr.predict(X_train_scaled)\n",
    "y_test_pred = lr.predict(X_test_scaled)\n",
    "\n",
    "print(\"Training Scores:\")\n",
    "print(f\"R2: {r2_score(y_train, y_train_pred)}\") #can account for X amount of variance\n",
    "print(f\"Mean Absolute Error: {mean_absolute_error(y_train, y_train_pred)}\")\n",
    "print(f\"Root Mean Squared Error: {np.sqrt(mean_absolute_error(y_train, y_pred_train))}\")#about X amount off in predicting price\n",
    "print(\"---\")\n",
    "print(\"Testing Scores:\")\n",
    "print(f\"R2: {r2_score(y_test, y_test_pred)}\")\n",
    "print(f\"Mean Absolute Error: {mean_absolute_error(y_test, y_test_pred)}\")\n",
    "print(f\"Root Mean Squared Error: {np.sqrt(mean_absolute_error(y_test, y_test_pred))}\")#about X amount off in predicting price\n",
    "# Underfit testing > training"
   ]
  },
  {
   "cell_type": "markdown",
   "metadata": {},
   "source": [
    "## Learning: data_OHE  - r-squared up to .584 from .569 with grade_category OHE"
   ]
  },
  {
   "cell_type": "markdown",
   "metadata": {},
   "source": [
    "## data_OHE2 = has_been_viewed and sqft_above p > 0.05, remove from model and try again"
   ]
  },
  {
   "cell_type": "code",
   "execution_count": 188,
   "metadata": {},
   "outputs": [],
   "source": [
    "data_OHE2 = data_OHE.drop(labels=['has_been_viewed', 'sqft_above'], axis=1)"
   ]
  },
  {
   "cell_type": "code",
   "execution_count": 189,
   "metadata": {},
   "outputs": [
    {
     "data": {
      "text/plain": [
       "Index(['price', 'bedrooms', 'bathrooms', 'sqft_living', 'floors', 'condition',\n",
       "       'grade', 'sqft_basement', 'has_basement', 'has_been_renovated',\n",
       "       'grade_category_Average', 'grade_category_High', 'grade_category_Low'],\n",
       "      dtype='object')"
      ]
     },
     "execution_count": 189,
     "metadata": {},
     "output_type": "execute_result"
    }
   ],
   "source": [
    "data_OHE2.columns"
   ]
  },
  {
   "cell_type": "code",
   "execution_count": 190,
   "metadata": {},
   "outputs": [],
   "source": [
    "# Define X and y\n",
    "X_cols = [c for c in data_OHE2.columns.to_list() if c not in ['price']]\n",
    "\n",
    "X = data_OHE2[X_cols]\n",
    "y = data_OHE2['price']"
   ]
  },
  {
   "cell_type": "code",
   "execution_count": 191,
   "metadata": {},
   "outputs": [],
   "source": [
    "# Perform a train/test split\n",
    "X_train, X_test, y_train, y_test = train_test_split(X, y)"
   ]
  },
  {
   "cell_type": "code",
   "execution_count": 192,
   "metadata": {},
   "outputs": [],
   "source": [
    "# Instantiate a scaler\n",
    "scaler = StandardScaler()"
   ]
  },
  {
   "cell_type": "code",
   "execution_count": 193,
   "metadata": {},
   "outputs": [],
   "source": [
    "# Train our scaler on training data, then fit to testing\n",
    "X_train_scaled = scaler.fit_transform(X_train)\n",
    "X_test_scaled = scaler.transform(X_test)"
   ]
  },
  {
   "cell_type": "code",
   "execution_count": 194,
   "metadata": {},
   "outputs": [],
   "source": [
    "# Instantiate a linear regression model\n",
    "lr = LinearRegression()"
   ]
  },
  {
   "cell_type": "code",
   "execution_count": 195,
   "metadata": {},
   "outputs": [
    {
     "data": {
      "text/plain": [
       "LinearRegression()"
      ]
     },
     "execution_count": 195,
     "metadata": {},
     "output_type": "execute_result"
    }
   ],
   "source": [
    "# Fit our model on our scaled data\n",
    "lr.fit(X_train_scaled, y_train)"
   ]
  },
  {
   "cell_type": "code",
   "execution_count": 196,
   "metadata": {},
   "outputs": [
    {
     "name": "stdout",
     "output_type": "stream",
     "text": [
      "Training Scores:\n",
      "R2: 0.5814533337071194\n",
      "Mean Absolute Error: 151550.08946069193\n",
      "Root Mean Squared Error: 389.29434809754423\n",
      "---\n",
      "Testing Scores:\n",
      "R2: 0.5917873094757564\n",
      "Mean Absolute Error: 156126.69621583796\n",
      "Root Mean Squared Error: 395.1287084176977\n"
     ]
    }
   ],
   "source": [
    "# Evaluate\n",
    "y_train_pred = lr.predict(X_train_scaled)\n",
    "y_test_pred = lr.predict(X_test_scaled)\n",
    "\n",
    "print(\"Training Scores:\")\n",
    "print(f\"R2: {r2_score(y_train, y_train_pred)}\") #can account for X amount of variance\n",
    "print(f\"Mean Absolute Error: {mean_absolute_error(y_train, y_train_pred)}\") \n",
    "print(f\"Root Mean Squared Error: {np.sqrt(mean_absolute_error(y_train, y_train_pred))}\") #about X amount off in predicting price\n",
    "print(\"---\")\n",
    "print(\"Testing Scores:\")\n",
    "print(f\"R2: {r2_score(y_test, y_test_pred)}\")\n",
    "print(f\"Mean Absolute Error: {mean_absolute_error(y_test, y_test_pred)}\")\n",
    "print(f\"Root Mean Squared Error: {np.sqrt(mean_absolute_error(y_test, y_test_pred))}\") #about X amount off in predicting price\n",
    "# Slightly Underfit"
   ]
  },
  {
   "cell_type": "code",
   "execution_count": 197,
   "metadata": {},
   "outputs": [
    {
     "data": {
      "text/plain": [
       "price                     1.000000\n",
       "sqft_living               0.701917\n",
       "grade                     0.667951\n",
       "sqft_above                0.605368\n",
       "grade_category_High       0.559649\n",
       "bathrooms                 0.525906\n",
       "sqft_basement             0.322192\n",
       "bedrooms                  0.308787\n",
       "floors                    0.256804\n",
       "has_basement              0.178264\n",
       "has_been_renovated        0.117543\n",
       "condition                 0.036056\n",
       "has_been_viewed          -0.012024\n",
       "grade_category_Low       -0.090469\n",
       "grade_category_Average   -0.486572\n",
       "Name: price, dtype: float64"
      ]
     },
     "execution_count": 197,
     "metadata": {},
     "output_type": "execute_result"
    }
   ],
   "source": [
    "data_OHE.corr().price.sort_values(ascending=False)"
   ]
  },
  {
   "cell_type": "markdown",
   "metadata": {},
   "source": [
    "## Now try with statsmodels"
   ]
  },
  {
   "cell_type": "code",
   "execution_count": 198,
   "metadata": {},
   "outputs": [],
   "source": [
    "model = sm.OLS(y, sm.add_constant(X))"
   ]
  },
  {
   "cell_type": "code",
   "execution_count": 199,
   "metadata": {
    "scrolled": true
   },
   "outputs": [
    {
     "data": {
      "text/html": [
       "<table class=\"simpletable\">\n",
       "<caption>OLS Regression Results</caption>\n",
       "<tr>\n",
       "  <th>Dep. Variable:</th>          <td>price</td>      <th>  R-squared:         </th>  <td>   0.584</td>  \n",
       "</tr>\n",
       "<tr>\n",
       "  <th>Model:</th>                   <td>OLS</td>       <th>  Adj. R-squared:    </th>  <td>   0.584</td>  \n",
       "</tr>\n",
       "<tr>\n",
       "  <th>Method:</th>             <td>Least Squares</td>  <th>  F-statistic:       </th>  <td>   2759.</td>  \n",
       "</tr>\n",
       "<tr>\n",
       "  <th>Date:</th>             <td>Fri, 15 Jan 2021</td> <th>  Prob (F-statistic):</th>   <td>  0.00</td>   \n",
       "</tr>\n",
       "<tr>\n",
       "  <th>Time:</th>                 <td>12:37:41</td>     <th>  Log-Likelihood:    </th> <td>-2.9791e+05</td>\n",
       "</tr>\n",
       "<tr>\n",
       "  <th>No. Observations:</th>      <td> 21597</td>      <th>  AIC:               </th>  <td>5.958e+05</td> \n",
       "</tr>\n",
       "<tr>\n",
       "  <th>Df Residuals:</th>          <td> 21585</td>      <th>  BIC:               </th>  <td>5.959e+05</td> \n",
       "</tr>\n",
       "<tr>\n",
       "  <th>Df Model:</th>              <td>    11</td>      <th>                     </th>      <td> </td>     \n",
       "</tr>\n",
       "<tr>\n",
       "  <th>Covariance Type:</th>      <td>nonrobust</td>    <th>                     </th>      <td> </td>     \n",
       "</tr>\n",
       "</table>\n",
       "<table class=\"simpletable\">\n",
       "<tr>\n",
       "             <td></td>               <th>coef</th>     <th>std err</th>      <th>t</th>      <th>P>|t|</th>  <th>[0.025</th>    <th>0.975]</th>  \n",
       "</tr>\n",
       "<tr>\n",
       "  <th>const</th>                  <td>-4.087e+05</td> <td> 1.54e+04</td> <td>  -26.546</td> <td> 0.000</td> <td>-4.39e+05</td> <td>-3.79e+05</td>\n",
       "</tr>\n",
       "<tr>\n",
       "  <th>bedrooms</th>               <td>-3.441e+04</td> <td> 2229.663</td> <td>  -15.431</td> <td> 0.000</td> <td>-3.88e+04</td> <td>   -3e+04</td>\n",
       "</tr>\n",
       "<tr>\n",
       "  <th>bathrooms</th>              <td>-1.515e+04</td> <td> 3620.116</td> <td>   -4.185</td> <td> 0.000</td> <td>-2.22e+04</td> <td>-8052.966</td>\n",
       "</tr>\n",
       "<tr>\n",
       "  <th>sqft_living</th>            <td>  176.0578</td> <td>    3.972</td> <td>   44.325</td> <td> 0.000</td> <td>  168.272</td> <td>  183.843</td>\n",
       "</tr>\n",
       "<tr>\n",
       "  <th>floors</th>                 <td> 1.444e+04</td> <td> 4054.379</td> <td>    3.562</td> <td> 0.000</td> <td> 6496.744</td> <td> 2.24e+04</td>\n",
       "</tr>\n",
       "<tr>\n",
       "  <th>condition</th>              <td> 6.327e+04</td> <td> 2606.738</td> <td>   24.270</td> <td> 0.000</td> <td> 5.82e+04</td> <td> 6.84e+04</td>\n",
       "</tr>\n",
       "<tr>\n",
       "  <th>grade</th>                  <td> 9.134e+04</td> <td> 2716.405</td> <td>   33.626</td> <td> 0.000</td> <td>  8.6e+04</td> <td> 9.67e+04</td>\n",
       "</tr>\n",
       "<tr>\n",
       "  <th>sqft_basement</th>          <td>   44.8461</td> <td>    7.770</td> <td>    5.772</td> <td> 0.000</td> <td>   29.616</td> <td>   60.076</td>\n",
       "</tr>\n",
       "<tr>\n",
       "  <th>has_basement</th>           <td> 2.911e+04</td> <td> 6032.824</td> <td>    4.825</td> <td> 0.000</td> <td> 1.73e+04</td> <td> 4.09e+04</td>\n",
       "</tr>\n",
       "<tr>\n",
       "  <th>has_been_renovated</th>     <td> 1.907e+05</td> <td> 8888.935</td> <td>   21.455</td> <td> 0.000</td> <td> 1.73e+05</td> <td> 2.08e+05</td>\n",
       "</tr>\n",
       "<tr>\n",
       "  <th>grade_category_Average</th> <td>-2.543e+05</td> <td> 6786.348</td> <td>  -37.475</td> <td> 0.000</td> <td>-2.68e+05</td> <td>-2.41e+05</td>\n",
       "</tr>\n",
       "<tr>\n",
       "  <th>grade_category_High</th>    <td>-4.723e+04</td> <td> 1.14e+04</td> <td>   -4.155</td> <td> 0.000</td> <td>-6.95e+04</td> <td>-2.49e+04</td>\n",
       "</tr>\n",
       "<tr>\n",
       "  <th>grade_category_Low</th>     <td>-1.072e+05</td> <td> 1.14e+04</td> <td>   -9.433</td> <td> 0.000</td> <td>-1.29e+05</td> <td>-8.49e+04</td>\n",
       "</tr>\n",
       "</table>\n",
       "<table class=\"simpletable\">\n",
       "<tr>\n",
       "  <th>Omnibus:</th>       <td>16766.008</td> <th>  Durbin-Watson:     </th>  <td>   1.990</td>  \n",
       "</tr>\n",
       "<tr>\n",
       "  <th>Prob(Omnibus):</th>  <td> 0.000</td>   <th>  Jarque-Bera (JB):  </th> <td>1100836.038</td>\n",
       "</tr>\n",
       "<tr>\n",
       "  <th>Skew:</th>           <td> 3.206</td>   <th>  Prob(JB):          </th>  <td>    0.00</td>  \n",
       "</tr>\n",
       "<tr>\n",
       "  <th>Kurtosis:</th>       <td>37.383</td>   <th>  Cond. No.          </th>  <td>2.40e+19</td>  \n",
       "</tr>\n",
       "</table><br/><br/>Warnings:<br/>[1] Standard Errors assume that the covariance matrix of the errors is correctly specified.<br/>[2] The smallest eigenvalue is 1.99e-28. This might indicate that there are<br/>strong multicollinearity problems or that the design matrix is singular."
      ],
      "text/plain": [
       "<class 'statsmodels.iolib.summary.Summary'>\n",
       "\"\"\"\n",
       "                            OLS Regression Results                            \n",
       "==============================================================================\n",
       "Dep. Variable:                  price   R-squared:                       0.584\n",
       "Model:                            OLS   Adj. R-squared:                  0.584\n",
       "Method:                 Least Squares   F-statistic:                     2759.\n",
       "Date:                Fri, 15 Jan 2021   Prob (F-statistic):               0.00\n",
       "Time:                        12:37:41   Log-Likelihood:            -2.9791e+05\n",
       "No. Observations:               21597   AIC:                         5.958e+05\n",
       "Df Residuals:                   21585   BIC:                         5.959e+05\n",
       "Df Model:                          11                                         \n",
       "Covariance Type:            nonrobust                                         \n",
       "==========================================================================================\n",
       "                             coef    std err          t      P>|t|      [0.025      0.975]\n",
       "------------------------------------------------------------------------------------------\n",
       "const                  -4.087e+05   1.54e+04    -26.546      0.000   -4.39e+05   -3.79e+05\n",
       "bedrooms               -3.441e+04   2229.663    -15.431      0.000   -3.88e+04      -3e+04\n",
       "bathrooms              -1.515e+04   3620.116     -4.185      0.000   -2.22e+04   -8052.966\n",
       "sqft_living              176.0578      3.972     44.325      0.000     168.272     183.843\n",
       "floors                  1.444e+04   4054.379      3.562      0.000    6496.744    2.24e+04\n",
       "condition               6.327e+04   2606.738     24.270      0.000    5.82e+04    6.84e+04\n",
       "grade                   9.134e+04   2716.405     33.626      0.000     8.6e+04    9.67e+04\n",
       "sqft_basement             44.8461      7.770      5.772      0.000      29.616      60.076\n",
       "has_basement            2.911e+04   6032.824      4.825      0.000    1.73e+04    4.09e+04\n",
       "has_been_renovated      1.907e+05   8888.935     21.455      0.000    1.73e+05    2.08e+05\n",
       "grade_category_Average -2.543e+05   6786.348    -37.475      0.000   -2.68e+05   -2.41e+05\n",
       "grade_category_High    -4.723e+04   1.14e+04     -4.155      0.000   -6.95e+04   -2.49e+04\n",
       "grade_category_Low     -1.072e+05   1.14e+04     -9.433      0.000   -1.29e+05   -8.49e+04\n",
       "==============================================================================\n",
       "Omnibus:                    16766.008   Durbin-Watson:                   1.990\n",
       "Prob(Omnibus):                  0.000   Jarque-Bera (JB):          1100836.038\n",
       "Skew:                           3.206   Prob(JB):                         0.00\n",
       "Kurtosis:                      37.383   Cond. No.                     2.40e+19\n",
       "==============================================================================\n",
       "\n",
       "Warnings:\n",
       "[1] Standard Errors assume that the covariance matrix of the errors is correctly specified.\n",
       "[2] The smallest eigenvalue is 1.99e-28. This might indicate that there are\n",
       "strong multicollinearity problems or that the design matrix is singular.\n",
       "\"\"\""
      ]
     },
     "execution_count": 199,
     "metadata": {},
     "output_type": "execute_result"
    }
   ],
   "source": [
    "results = model.fit()\n",
    "\n",
    "results.summary()"
   ]
  },
  {
   "cell_type": "markdown",
   "metadata": {},
   "source": [
    "## data_OHE2 learning: Same R-squared, but lower testing score and still underfit"
   ]
  },
  {
   "cell_type": "code",
   "execution_count": 250,
   "metadata": {},
   "outputs": [
    {
     "data": {
      "text/plain": [
       "<matplotlib.axes._subplots.AxesSubplot at 0x7fa5d4a8ef70>"
      ]
     },
     "execution_count": 250,
     "metadata": {},
     "output_type": "execute_result"
    },
    {
     "data": {
      "image/png": "[encoded data removed]",
      "text/plain": [
       "<Figure size 1440x720 with 2 Axes>"
      ]
     },
     "metadata": {
      "needs_background": "light"
     },
     "output_type": "display_data"
    }
   ],
   "source": [
    "fig, ax = plt.subplots(figsize=(20,10))  \n",
    "sns.heatmap(data_OHE.corr(), annot=True)\n",
    "# grade and sqft_above correlation?\n",
    "# has_basement and sqft_basement"
   ]
  },
  {
   "cell_type": "code",
   "execution_count": 218,
   "metadata": {},
   "outputs": [],
   "source": [
    "continuous = ['price','bedrooms', 'bathrooms', 'sqft_living', 'floors', 'condition', 'grade', 'sqft_above'] #sqft_basement?\n",
    "categorical = ['grade_category', 'has_been_viewed', 'has_basement', 'has_been_renovated']"
   ]
  },
  {
   "cell_type": "markdown",
   "metadata": {},
   "source": [
    "Continuous"
   ]
  },
  {
   "cell_type": "code",
   "execution_count": 219,
   "metadata": {},
   "outputs": [],
   "source": [
    "data_OHE_cont = data_OHE[continuous]"
   ]
  },
  {
   "cell_type": "code",
   "execution_count": 220,
   "metadata": {},
   "outputs": [
    {
     "data": {
      "text/html": [
       "<div>\n",
       "<style scoped>\n",
       "    .dataframe tbody tr th:only-of-type {\n",
       "        vertical-align: middle;\n",
       "    }\n",
       "\n",
       "    .dataframe tbody tr th {\n",
       "        vertical-align: top;\n",
       "    }\n",
       "\n",
       "    .dataframe thead th {\n",
       "        text-align: right;\n",
       "    }\n",
       "</style>\n",
       "<table border=\"1\" class=\"dataframe\">\n",
       "  <thead>\n",
       "    <tr style=\"text-align: right;\">\n",
       "      <th></th>\n",
       "      <th>price</th>\n",
       "      <th>bedrooms</th>\n",
       "      <th>bathrooms</th>\n",
       "      <th>sqft_living</th>\n",
       "      <th>floors</th>\n",
       "      <th>condition</th>\n",
       "      <th>grade</th>\n",
       "      <th>sqft_above</th>\n",
       "    </tr>\n",
       "  </thead>\n",
       "  <tbody>\n",
       "    <tr>\n",
       "      <th>count</th>\n",
       "      <td>2.159700e+04</td>\n",
       "      <td>21597.000000</td>\n",
       "      <td>21597.000000</td>\n",
       "      <td>21597.000000</td>\n",
       "      <td>21597.000000</td>\n",
       "      <td>21597.000000</td>\n",
       "      <td>21597.000000</td>\n",
       "      <td>21597.000000</td>\n",
       "    </tr>\n",
       "    <tr>\n",
       "      <th>mean</th>\n",
       "      <td>5.402966e+05</td>\n",
       "      <td>3.373200</td>\n",
       "      <td>2.115826</td>\n",
       "      <td>2080.321850</td>\n",
       "      <td>1.494096</td>\n",
       "      <td>3.409825</td>\n",
       "      <td>7.657915</td>\n",
       "      <td>1788.596842</td>\n",
       "    </tr>\n",
       "    <tr>\n",
       "      <th>std</th>\n",
       "      <td>3.673681e+05</td>\n",
       "      <td>0.926299</td>\n",
       "      <td>0.768984</td>\n",
       "      <td>918.106125</td>\n",
       "      <td>0.539683</td>\n",
       "      <td>0.650546</td>\n",
       "      <td>1.173200</td>\n",
       "      <td>827.759761</td>\n",
       "    </tr>\n",
       "    <tr>\n",
       "      <th>min</th>\n",
       "      <td>7.800000e+04</td>\n",
       "      <td>1.000000</td>\n",
       "      <td>0.500000</td>\n",
       "      <td>370.000000</td>\n",
       "      <td>1.000000</td>\n",
       "      <td>1.000000</td>\n",
       "      <td>3.000000</td>\n",
       "      <td>370.000000</td>\n",
       "    </tr>\n",
       "    <tr>\n",
       "      <th>25%</th>\n",
       "      <td>3.220000e+05</td>\n",
       "      <td>3.000000</td>\n",
       "      <td>1.750000</td>\n",
       "      <td>1430.000000</td>\n",
       "      <td>1.000000</td>\n",
       "      <td>3.000000</td>\n",
       "      <td>7.000000</td>\n",
       "      <td>1190.000000</td>\n",
       "    </tr>\n",
       "    <tr>\n",
       "      <th>50%</th>\n",
       "      <td>4.500000e+05</td>\n",
       "      <td>3.000000</td>\n",
       "      <td>2.250000</td>\n",
       "      <td>1910.000000</td>\n",
       "      <td>1.500000</td>\n",
       "      <td>3.000000</td>\n",
       "      <td>7.000000</td>\n",
       "      <td>1560.000000</td>\n",
       "    </tr>\n",
       "    <tr>\n",
       "      <th>75%</th>\n",
       "      <td>6.450000e+05</td>\n",
       "      <td>4.000000</td>\n",
       "      <td>2.500000</td>\n",
       "      <td>2550.000000</td>\n",
       "      <td>2.000000</td>\n",
       "      <td>4.000000</td>\n",
       "      <td>8.000000</td>\n",
       "      <td>2210.000000</td>\n",
       "    </tr>\n",
       "    <tr>\n",
       "      <th>max</th>\n",
       "      <td>7.700000e+06</td>\n",
       "      <td>33.000000</td>\n",
       "      <td>8.000000</td>\n",
       "      <td>13540.000000</td>\n",
       "      <td>3.500000</td>\n",
       "      <td>5.000000</td>\n",
       "      <td>13.000000</td>\n",
       "      <td>9410.000000</td>\n",
       "    </tr>\n",
       "  </tbody>\n",
       "</table>\n",
       "</div>"
      ],
      "text/plain": [
       "              price      bedrooms     bathrooms   sqft_living        floors  \\\n",
       "count  2.159700e+04  21597.000000  21597.000000  21597.000000  21597.000000   \n",
       "mean   5.402966e+05      3.373200      2.115826   2080.321850      1.494096   \n",
       "std    3.673681e+05      0.926299      0.768984    918.106125      0.539683   \n",
       "min    7.800000e+04      1.000000      0.500000    370.000000      1.000000   \n",
       "25%    3.220000e+05      3.000000      1.750000   1430.000000      1.000000   \n",
       "50%    4.500000e+05      3.000000      2.250000   1910.000000      1.500000   \n",
       "75%    6.450000e+05      4.000000      2.500000   2550.000000      2.000000   \n",
       "max    7.700000e+06     33.000000      8.000000  13540.000000      3.500000   \n",
       "\n",
       "          condition         grade    sqft_above  \n",
       "count  21597.000000  21597.000000  21597.000000  \n",
       "mean       3.409825      7.657915   1788.596842  \n",
       "std        0.650546      1.173200    827.759761  \n",
       "min        1.000000      3.000000    370.000000  \n",
       "25%        3.000000      7.000000   1190.000000  \n",
       "50%        3.000000      7.000000   1560.000000  \n",
       "75%        4.000000      8.000000   2210.000000  \n",
       "max        5.000000     13.000000   9410.000000  "
      ]
     },
     "execution_count": 220,
     "metadata": {},
     "output_type": "execute_result"
    }
   ],
   "source": [
    "data_OHE_cont.describe()"
   ]
  },
  {
   "cell_type": "code",
   "execution_count": 221,
   "metadata": {},
   "outputs": [
    {
     "data": {
      "image/png": "[encoded data removed]",
      "text/plain": [
       "<Figure size 720x720 with 9 Axes>"
      ]
     },
     "metadata": {
      "needs_background": "light"
     },
     "output_type": "display_data"
    }
   ],
   "source": [
    "data_OHE_cont.hist(figsize = [10,10])\n",
    "plt.show()"
   ]
  },
  {
   "cell_type": "code",
   "execution_count": 222,
   "metadata": {},
   "outputs": [],
   "source": [
    "data_OHE_cont_needs_log = data_OHE_cont.drop(labels='grade', axis=1)"
   ]
  },
  {
   "cell_type": "code",
   "execution_count": 223,
   "metadata": {},
   "outputs": [
    {
     "data": {
      "text/plain": [
       "array([[<matplotlib.axes._subplots.AxesSubplot object at 0x7fa5cf016d90>,\n",
       "        <matplotlib.axes._subplots.AxesSubplot object at 0x7fa5cd63e5b0>,\n",
       "        <matplotlib.axes._subplots.AxesSubplot object at 0x7fa5ca447d90>],\n",
       "       [<matplotlib.axes._subplots.AxesSubplot object at 0x7fa5cd2d9c40>,\n",
       "        <matplotlib.axes._subplots.AxesSubplot object at 0x7fa5d06062b0>,\n",
       "        <matplotlib.axes._subplots.AxesSubplot object at 0x7fa5cef8dc70>],\n",
       "       [<matplotlib.axes._subplots.AxesSubplot object at 0x7fa5cef8dbb0>,\n",
       "        <matplotlib.axes._subplots.AxesSubplot object at 0x7fa5d3525a90>,\n",
       "        <matplotlib.axes._subplots.AxesSubplot object at 0x7fa5d380cfa0>]],\n",
       "      dtype=object)"
      ]
     },
     "execution_count": 223,
     "metadata": {},
     "output_type": "execute_result"
    },
    {
     "data": {
      "image/png": "[encoded data removed]",
      "text/plain": [
       "<Figure size 720x720 with 9 Axes>"
      ]
     },
     "metadata": {
      "needs_background": "light"
     },
     "output_type": "display_data"
    }
   ],
   "source": [
    "#normalize via log function\n",
    "\n",
    "log_names = [f'{column}_log' for column in data_OHE_cont_needs_log.columns] #list of column names per attribute\n",
    "\n",
    "data_OHE_log = np.log(data_OHE_cont_needs_log) #apply log function to all values in ames_cont\n",
    "data_OHE_log.columns = log_names #label the columns with the log_names above\n",
    "data_OHE_log.hist(figsize=(10,10), bins='auto') #plot histograms of new log table and values"
   ]
  },
  {
   "cell_type": "code",
   "execution_count": 227,
   "metadata": {},
   "outputs": [
    {
     "data": {
      "text/plain": [
       "Index(['price_log', 'bedrooms_log', 'bathrooms_log', 'sqft_living_log',\n",
       "       'floors_log', 'condition_log', 'sqft_above_log'],\n",
       "      dtype='object')"
      ]
     },
     "execution_count": 227,
     "metadata": {},
     "output_type": "execute_result"
    }
   ],
   "source": [
    "data_OHE_log.columns"
   ]
  },
  {
   "cell_type": "code",
   "execution_count": 228,
   "metadata": {},
   "outputs": [
    {
     "data": {
      "image/png": "[encoded data removed]",
      "text/plain": [
       "<Figure size 576x576 with 9 Axes>"
      ]
     },
     "metadata": {
      "needs_background": "light"
     },
     "output_type": "display_data"
    }
   ],
   "source": [
    "def normalize(feature):\n",
    "    return (feature - feature.mean()) / feature.std()\n",
    "\n",
    "features_final = data_OHE_log.apply(normalize)\n",
    "\n",
    "features_final.hist(figsize = [8,8]);"
   ]
  },
  {
   "cell_type": "code",
   "execution_count": 229,
   "metadata": {
    "scrolled": true
   },
   "outputs": [
    {
     "data": {
      "text/html": [
       "<div>\n",
       "<style scoped>\n",
       "    .dataframe tbody tr th:only-of-type {\n",
       "        vertical-align: middle;\n",
       "    }\n",
       "\n",
       "    .dataframe tbody tr th {\n",
       "        vertical-align: top;\n",
       "    }\n",
       "\n",
       "    .dataframe thead th {\n",
       "        text-align: right;\n",
       "    }\n",
       "</style>\n",
       "<table border=\"1\" class=\"dataframe\">\n",
       "  <thead>\n",
       "    <tr style=\"text-align: right;\">\n",
       "      <th></th>\n",
       "      <th>price_log</th>\n",
       "      <th>bedrooms_log</th>\n",
       "      <th>bathrooms_log</th>\n",
       "      <th>sqft_living_log</th>\n",
       "      <th>floors_log</th>\n",
       "      <th>condition_log</th>\n",
       "      <th>sqft_above_log</th>\n",
       "    </tr>\n",
       "  </thead>\n",
       "  <tbody>\n",
       "    <tr>\n",
       "      <th>0</th>\n",
       "      <td>-0.677290</td>\n",
       "      <td>0.736226</td>\n",
       "      <td>0.608100</td>\n",
       "      <td>0.385465</td>\n",
       "      <td>1.006831</td>\n",
       "      <td>0.973636</td>\n",
       "      <td>0.747022</td>\n",
       "    </tr>\n",
       "    <tr>\n",
       "      <th>1</th>\n",
       "      <td>0.286985</td>\n",
       "      <td>-0.279718</td>\n",
       "      <td>-0.300669</td>\n",
       "      <td>-0.363952</td>\n",
       "      <td>1.006831</td>\n",
       "      <td>-0.613360</td>\n",
       "      <td>-1.094699</td>\n",
       "    </tr>\n",
       "    <tr>\n",
       "      <th>2</th>\n",
       "      <td>-0.569388</td>\n",
       "      <td>-4.159448</td>\n",
       "      <td>-0.693428</td>\n",
       "      <td>-2.162710</td>\n",
       "      <td>2.157851</td>\n",
       "      <td>-0.613360</td>\n",
       "      <td>-1.783558</td>\n",
       "    </tr>\n",
       "    <tr>\n",
       "      <th>3</th>\n",
       "      <td>0.372934</td>\n",
       "      <td>0.736226</td>\n",
       "      <td>0.608100</td>\n",
       "      <td>0.644346</td>\n",
       "      <td>-0.960852</td>\n",
       "      <td>-0.613360</td>\n",
       "      <td>1.004115</td>\n",
       "    </tr>\n",
       "    <tr>\n",
       "      <th>4</th>\n",
       "      <td>-0.706735</td>\n",
       "      <td>-0.279718</td>\n",
       "      <td>0.039555</td>\n",
       "      <td>-0.989699</td>\n",
       "      <td>-0.960852</td>\n",
       "      <td>2.204605</td>\n",
       "      <td>-0.618647</td>\n",
       "    </tr>\n",
       "  </tbody>\n",
       "</table>\n",
       "</div>"
      ],
      "text/plain": [
       "   price_log  bedrooms_log  bathrooms_log  sqft_living_log  floors_log  \\\n",
       "0  -0.677290      0.736226       0.608100         0.385465    1.006831   \n",
       "1   0.286985     -0.279718      -0.300669        -0.363952    1.006831   \n",
       "2  -0.569388     -4.159448      -0.693428        -2.162710    2.157851   \n",
       "3   0.372934      0.736226       0.608100         0.644346   -0.960852   \n",
       "4  -0.706735     -0.279718       0.039555        -0.989699   -0.960852   \n",
       "\n",
       "   condition_log  sqft_above_log  \n",
       "0       0.973636        0.747022  \n",
       "1      -0.613360       -1.094699  \n",
       "2      -0.613360       -1.783558  \n",
       "3      -0.613360        1.004115  \n",
       "4       2.204605       -0.618647  "
      ]
     },
     "execution_count": 229,
     "metadata": {},
     "output_type": "execute_result"
    }
   ],
   "source": [
    "features_final.head()"
   ]
  },
  {
   "cell_type": "markdown",
   "metadata": {},
   "source": [
    "Categorical"
   ]
  },
  {
   "cell_type": "code",
   "execution_count": 233,
   "metadata": {
    "scrolled": true
   },
   "outputs": [],
   "source": [
    "data_preprocessed = pd.concat([data_OHE, features_final], axis=1)"
   ]
  },
  {
   "cell_type": "code",
   "execution_count": 235,
   "metadata": {},
   "outputs": [
    {
     "data": {
      "text/plain": [
       "Index(['price', 'bedrooms', 'bathrooms', 'sqft_living', 'floors', 'condition',\n",
       "       'grade', 'sqft_above', 'sqft_basement', 'has_been_viewed',\n",
       "       'has_basement', 'has_been_renovated', 'grade_category_Average',\n",
       "       'grade_category_High', 'grade_category_Low', 'price_log',\n",
       "       'bedrooms_log', 'bathrooms_log', 'sqft_living_log', 'floors_log',\n",
       "       'condition_log', 'sqft_above_log'],\n",
       "      dtype='object')"
      ]
     },
     "execution_count": 235,
     "metadata": {},
     "output_type": "execute_result"
    }
   ],
   "source": [
    "data_preprocessed.columns"
   ]
  },
  {
   "cell_type": "code",
   "execution_count": 240,
   "metadata": {},
   "outputs": [
    {
     "ename": "KeyError",
     "evalue": "\"['price' 'bedrooms' 'bathrooms' 'sqft_living' 'floors' 'condition'\\n 'sqft_above'] not found in axis\"",
     "output_type": "error",
     "traceback": [
      "\u001b[0;31m---------------------------------------------------------------------------\u001b[0m",
      "\u001b[0;31mKeyError\u001b[0m                                  Traceback (most recent call last)",
      "\u001b[0;32m<ipython-input-240-c55f44d7ec24>\u001b[0m in \u001b[0;36m<module>\u001b[0;34m\u001b[0m\n\u001b[0;32m----> 1\u001b[0;31m \u001b[0mdata_preprocessed\u001b[0m \u001b[0;34m=\u001b[0m \u001b[0mdata_preprocessed\u001b[0m\u001b[0;34m.\u001b[0m\u001b[0mdrop\u001b[0m\u001b[0;34m(\u001b[0m\u001b[0mlabels\u001b[0m\u001b[0;34m=\u001b[0m\u001b[0;34m[\u001b[0m\u001b[0;34m'price'\u001b[0m\u001b[0;34m,\u001b[0m \u001b[0;34m'bedrooms'\u001b[0m\u001b[0;34m,\u001b[0m \u001b[0;34m'bathrooms'\u001b[0m\u001b[0;34m,\u001b[0m \u001b[0;34m'sqft_living'\u001b[0m\u001b[0;34m,\u001b[0m \u001b[0;34m'floors'\u001b[0m\u001b[0;34m,\u001b[0m \u001b[0;34m'condition'\u001b[0m\u001b[0;34m,\u001b[0m \u001b[0;34m'sqft_above'\u001b[0m\u001b[0;34m]\u001b[0m\u001b[0;34m,\u001b[0m \u001b[0maxis\u001b[0m\u001b[0;34m=\u001b[0m\u001b[0;36m1\u001b[0m\u001b[0;34m)\u001b[0m\u001b[0;34m\u001b[0m\u001b[0;34m\u001b[0m\u001b[0m\n\u001b[0m",
      "\u001b[0;32m/opt/anaconda3/lib/python3.8/site-packages/pandas/core/frame.py\u001b[0m in \u001b[0;36mdrop\u001b[0;34m(self, labels, axis, index, columns, level, inplace, errors)\u001b[0m\n\u001b[1;32m   3988\u001b[0m                 \u001b[0mweight\u001b[0m  \u001b[0;36m1.0\u001b[0m     \u001b[0;36m0.8\u001b[0m\u001b[0;34m\u001b[0m\u001b[0;34m\u001b[0m\u001b[0m\n\u001b[1;32m   3989\u001b[0m         \"\"\"\n\u001b[0;32m-> 3990\u001b[0;31m         return super().drop(\n\u001b[0m\u001b[1;32m   3991\u001b[0m             \u001b[0mlabels\u001b[0m\u001b[0;34m=\u001b[0m\u001b[0mlabels\u001b[0m\u001b[0;34m,\u001b[0m\u001b[0;34m\u001b[0m\u001b[0;34m\u001b[0m\u001b[0m\n\u001b[1;32m   3992\u001b[0m             \u001b[0maxis\u001b[0m\u001b[0;34m=\u001b[0m\u001b[0maxis\u001b[0m\u001b[0;34m,\u001b[0m\u001b[0;34m\u001b[0m\u001b[0;34m\u001b[0m\u001b[0m\n",
      "\u001b[0;32m/opt/anaconda3/lib/python3.8/site-packages/pandas/core/generic.py\u001b[0m in \u001b[0;36mdrop\u001b[0;34m(self, labels, axis, index, columns, level, inplace, errors)\u001b[0m\n\u001b[1;32m   3934\u001b[0m         \u001b[0;32mfor\u001b[0m \u001b[0maxis\u001b[0m\u001b[0;34m,\u001b[0m \u001b[0mlabels\u001b[0m \u001b[0;32min\u001b[0m \u001b[0maxes\u001b[0m\u001b[0;34m.\u001b[0m\u001b[0mitems\u001b[0m\u001b[0;34m(\u001b[0m\u001b[0;34m)\u001b[0m\u001b[0;34m:\u001b[0m\u001b[0;34m\u001b[0m\u001b[0;34m\u001b[0m\u001b[0m\n\u001b[1;32m   3935\u001b[0m             \u001b[0;32mif\u001b[0m \u001b[0mlabels\u001b[0m \u001b[0;32mis\u001b[0m \u001b[0;32mnot\u001b[0m \u001b[0;32mNone\u001b[0m\u001b[0;34m:\u001b[0m\u001b[0;34m\u001b[0m\u001b[0;34m\u001b[0m\u001b[0m\n\u001b[0;32m-> 3936\u001b[0;31m                 \u001b[0mobj\u001b[0m \u001b[0;34m=\u001b[0m \u001b[0mobj\u001b[0m\u001b[0;34m.\u001b[0m\u001b[0m_drop_axis\u001b[0m\u001b[0;34m(\u001b[0m\u001b[0mlabels\u001b[0m\u001b[0;34m,\u001b[0m \u001b[0maxis\u001b[0m\u001b[0;34m,\u001b[0m \u001b[0mlevel\u001b[0m\u001b[0;34m=\u001b[0m\u001b[0mlevel\u001b[0m\u001b[0;34m,\u001b[0m \u001b[0merrors\u001b[0m\u001b[0;34m=\u001b[0m\u001b[0merrors\u001b[0m\u001b[0;34m)\u001b[0m\u001b[0;34m\u001b[0m\u001b[0;34m\u001b[0m\u001b[0m\n\u001b[0m\u001b[1;32m   3937\u001b[0m \u001b[0;34m\u001b[0m\u001b[0m\n\u001b[1;32m   3938\u001b[0m         \u001b[0;32mif\u001b[0m \u001b[0minplace\u001b[0m\u001b[0;34m:\u001b[0m\u001b[0;34m\u001b[0m\u001b[0;34m\u001b[0m\u001b[0m\n",
      "\u001b[0;32m/opt/anaconda3/lib/python3.8/site-packages/pandas/core/generic.py\u001b[0m in \u001b[0;36m_drop_axis\u001b[0;34m(self, labels, axis, level, errors)\u001b[0m\n\u001b[1;32m   3968\u001b[0m                 \u001b[0mnew_axis\u001b[0m \u001b[0;34m=\u001b[0m \u001b[0maxis\u001b[0m\u001b[0;34m.\u001b[0m\u001b[0mdrop\u001b[0m\u001b[0;34m(\u001b[0m\u001b[0mlabels\u001b[0m\u001b[0;34m,\u001b[0m \u001b[0mlevel\u001b[0m\u001b[0;34m=\u001b[0m\u001b[0mlevel\u001b[0m\u001b[0;34m,\u001b[0m \u001b[0merrors\u001b[0m\u001b[0;34m=\u001b[0m\u001b[0merrors\u001b[0m\u001b[0;34m)\u001b[0m\u001b[0;34m\u001b[0m\u001b[0;34m\u001b[0m\u001b[0m\n\u001b[1;32m   3969\u001b[0m             \u001b[0;32melse\u001b[0m\u001b[0;34m:\u001b[0m\u001b[0;34m\u001b[0m\u001b[0;34m\u001b[0m\u001b[0m\n\u001b[0;32m-> 3970\u001b[0;31m                 \u001b[0mnew_axis\u001b[0m \u001b[0;34m=\u001b[0m \u001b[0maxis\u001b[0m\u001b[0;34m.\u001b[0m\u001b[0mdrop\u001b[0m\u001b[0;34m(\u001b[0m\u001b[0mlabels\u001b[0m\u001b[0;34m,\u001b[0m \u001b[0merrors\u001b[0m\u001b[0;34m=\u001b[0m\u001b[0merrors\u001b[0m\u001b[0;34m)\u001b[0m\u001b[0;34m\u001b[0m\u001b[0;34m\u001b[0m\u001b[0m\n\u001b[0m\u001b[1;32m   3971\u001b[0m             \u001b[0mresult\u001b[0m \u001b[0;34m=\u001b[0m \u001b[0mself\u001b[0m\u001b[0;34m.\u001b[0m\u001b[0mreindex\u001b[0m\u001b[0;34m(\u001b[0m\u001b[0;34m**\u001b[0m\u001b[0;34m{\u001b[0m\u001b[0maxis_name\u001b[0m\u001b[0;34m:\u001b[0m \u001b[0mnew_axis\u001b[0m\u001b[0;34m}\u001b[0m\u001b[0;34m)\u001b[0m\u001b[0;34m\u001b[0m\u001b[0;34m\u001b[0m\u001b[0m\n\u001b[1;32m   3972\u001b[0m \u001b[0;34m\u001b[0m\u001b[0m\n",
      "\u001b[0;32m/opt/anaconda3/lib/python3.8/site-packages/pandas/core/indexes/base.py\u001b[0m in \u001b[0;36mdrop\u001b[0;34m(self, labels, errors)\u001b[0m\n\u001b[1;32m   5016\u001b[0m         \u001b[0;32mif\u001b[0m \u001b[0mmask\u001b[0m\u001b[0;34m.\u001b[0m\u001b[0many\u001b[0m\u001b[0;34m(\u001b[0m\u001b[0;34m)\u001b[0m\u001b[0;34m:\u001b[0m\u001b[0;34m\u001b[0m\u001b[0;34m\u001b[0m\u001b[0m\n\u001b[1;32m   5017\u001b[0m             \u001b[0;32mif\u001b[0m \u001b[0merrors\u001b[0m \u001b[0;34m!=\u001b[0m \u001b[0;34m\"ignore\"\u001b[0m\u001b[0;34m:\u001b[0m\u001b[0;34m\u001b[0m\u001b[0;34m\u001b[0m\u001b[0m\n\u001b[0;32m-> 5018\u001b[0;31m                 \u001b[0;32mraise\u001b[0m \u001b[0mKeyError\u001b[0m\u001b[0;34m(\u001b[0m\u001b[0;34mf\"{labels[mask]} not found in axis\"\u001b[0m\u001b[0;34m)\u001b[0m\u001b[0;34m\u001b[0m\u001b[0;34m\u001b[0m\u001b[0m\n\u001b[0m\u001b[1;32m   5019\u001b[0m             \u001b[0mindexer\u001b[0m \u001b[0;34m=\u001b[0m \u001b[0mindexer\u001b[0m\u001b[0;34m[\u001b[0m\u001b[0;34m~\u001b[0m\u001b[0mmask\u001b[0m\u001b[0;34m]\u001b[0m\u001b[0;34m\u001b[0m\u001b[0;34m\u001b[0m\u001b[0m\n\u001b[1;32m   5020\u001b[0m         \u001b[0;32mreturn\u001b[0m \u001b[0mself\u001b[0m\u001b[0;34m.\u001b[0m\u001b[0mdelete\u001b[0m\u001b[0;34m(\u001b[0m\u001b[0mindexer\u001b[0m\u001b[0;34m)\u001b[0m\u001b[0;34m\u001b[0m\u001b[0;34m\u001b[0m\u001b[0m\n",
      "\u001b[0;31mKeyError\u001b[0m: \"['price' 'bedrooms' 'bathrooms' 'sqft_living' 'floors' 'condition'\\n 'sqft_above'] not found in axis\""
     ]
    }
   ],
   "source": [
    "data_preprocessed = data_preprocessed.drop(labels=['price', 'bedrooms', 'bathrooms', 'sqft_living', 'floors', 'condition', 'sqft_above'], axis=1)"
   ]
  },
  {
   "cell_type": "code",
   "execution_count": 242,
   "metadata": {},
   "outputs": [
    {
     "data": {
      "text/plain": [
       "Index(['grade', 'sqft_basement', 'has_been_viewed', 'has_basement',\n",
       "       'has_been_renovated', 'grade_category_Average', 'grade_category_High',\n",
       "       'grade_category_Low', 'price_log', 'bedrooms_log', 'bathrooms_log',\n",
       "       'sqft_living_log', 'floors_log', 'condition_log', 'sqft_above_log'],\n",
       "      dtype='object')"
      ]
     },
     "execution_count": 242,
     "metadata": {},
     "output_type": "execute_result"
    }
   ],
   "source": [
    "data_preprocessed.columns"
   ]
  },
  {
   "cell_type": "code",
   "execution_count": 243,
   "metadata": {},
   "outputs": [],
   "source": [
    "# Define X and y\n",
    "X_cols = [c for c in data_preprocessed.columns.to_list() if c not in ['price_log']]\n",
    "\n",
    "X = data_preprocessed[X_cols]\n",
    "y = data_preprocessed['price_log']"
   ]
  },
  {
   "cell_type": "code",
   "execution_count": 244,
   "metadata": {},
   "outputs": [],
   "source": [
    "# Perform a train/test split\n",
    "X_train, X_test, y_train, y_test = train_test_split(X, y)"
   ]
  },
  {
   "cell_type": "code",
   "execution_count": 245,
   "metadata": {},
   "outputs": [],
   "source": [
    "# Instantiate a scaler\n",
    "scaler = StandardScaler()"
   ]
  },
  {
   "cell_type": "code",
   "execution_count": 246,
   "metadata": {},
   "outputs": [],
   "source": [
    "# Train our scaler on training data, then fit to testing\n",
    "X_train_scaled = scaler.fit_transform(X_train)\n",
    "X_test_scaled = scaler.transform(X_test)"
   ]
  },
  {
   "cell_type": "code",
   "execution_count": 247,
   "metadata": {},
   "outputs": [],
   "source": [
    "# Instantiate a linear regression model\n",
    "lr = LinearRegression()"
   ]
  },
  {
   "cell_type": "code",
   "execution_count": 248,
   "metadata": {},
   "outputs": [
    {
     "data": {
      "text/plain": [
       "LinearRegression()"
      ]
     },
     "execution_count": 248,
     "metadata": {},
     "output_type": "execute_result"
    }
   ],
   "source": [
    "# Fit our model on our scaled data\n",
    "lr.fit(X_train_scaled, y_train)"
   ]
  },
  {
   "cell_type": "code",
   "execution_count": 249,
   "metadata": {},
   "outputs": [
    {
     "name": "stdout",
     "output_type": "stream",
     "text": [
      "Training Scores:\n",
      "R2: 0.58632600029787\n",
      "Mean Absolute Error: 0.5089301055496797\n",
      "Root Mean Squared Error: 0.71339337363735\n",
      "---\n",
      "Testing Scores:\n",
      "R2: 0.5986846987812781\n",
      "Mean Absolute Error: 0.516821486419346\n",
      "Root Mean Squared Error: 0.7189029742735427\n"
     ]
    }
   ],
   "source": [
    "# Evaluate\n",
    "y_train_pred = lr.predict(X_train_scaled)\n",
    "y_test_pred = lr.predict(X_test_scaled)\n",
    "\n",
    "print(\"Training Scores:\")\n",
    "print(f\"R2: {r2_score(y_train, y_train_pred)}\") #can account for X amount of variance\n",
    "print(f\"Mean Absolute Error: {mean_absolute_error(y_train, y_train_pred)}\") \n",
    "print(f\"Root Mean Squared Error: {np.sqrt(mean_absolute_error(y_train, y_train_pred))}\") #about X amount off in predicting price\n",
    "print(\"---\")\n",
    "print(\"Testing Scores:\")\n",
    "print(f\"R2: {r2_score(y_test, y_test_pred)}\")\n",
    "print(f\"Mean Absolute Error: {mean_absolute_error(y_test, y_test_pred)}\")\n",
    "print(f\"Root Mean Squared Error: {np.sqrt(mean_absolute_error(y_test, y_test_pred))}\") #about X amount off in predicting price\n",
    "# Slightly Underfit"
   ]
  },
  {
   "cell_type": "code",
   "execution_count": null,
   "metadata": {},
   "outputs": [],
   "source": []
  }
 ],
 "metadata": {
  "kernelspec": {
   "display_name": "learn-env",
   "language": "python",
   "name": "learn-env"
  },
  "language_info": {
   "codemirror_mode": {
    "name": "ipython",
    "version": 3
   },
   "file_extension": ".py",
   "mimetype": "text/x-python",
   "name": "python",
   "nbconvert_exporter": "python",
   "pygments_lexer": "ipython3",
   "version": "3.8.3"
  }
 },
 "nbformat": 4,
 "nbformat_minor": 4
}
